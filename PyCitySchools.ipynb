{
 "cells": [
  {
   "cell_type": "code",
   "execution_count": 20,
   "id": "d74ceaab",
   "metadata": {},
   "outputs": [],
   "source": [
    "import pandas as pd"
   ]
  },
  {
   "cell_type": "code",
   "execution_count": 21,
   "id": "cf85d563",
   "metadata": {},
   "outputs": [],
   "source": [
    "school_data_to_load = \"Resources/schools_complete.csv\"\n",
    "student_data_to_load = \"Resources/students_complete.csv\""
   ]
  },
  {
   "cell_type": "code",
   "execution_count": 22,
   "id": "68b77d1d",
   "metadata": {},
   "outputs": [],
   "source": [
    "#school data\n",
    "school_data_df = pd.read_csv(school_data_to_load)\n",
    "#student data\n",
    "student_data_df = pd.read_csv(student_data_to_load)"
   ]
  },
  {
   "cell_type": "code",
   "execution_count": 23,
   "id": "5a86bca8",
   "metadata": {},
   "outputs": [
    {
     "data": {
      "text/html": [
       "<div>\n",
       "<style scoped>\n",
       "    .dataframe tbody tr th:only-of-type {\n",
       "        vertical-align: middle;\n",
       "    }\n",
       "\n",
       "    .dataframe tbody tr th {\n",
       "        vertical-align: top;\n",
       "    }\n",
       "\n",
       "    .dataframe thead th {\n",
       "        text-align: right;\n",
       "    }\n",
       "</style>\n",
       "<table border=\"1\" class=\"dataframe\">\n",
       "  <thead>\n",
       "    <tr style=\"text-align: right;\">\n",
       "      <th></th>\n",
       "      <th>School ID</th>\n",
       "      <th>school_name</th>\n",
       "      <th>type</th>\n",
       "      <th>size</th>\n",
       "      <th>budget</th>\n",
       "    </tr>\n",
       "  </thead>\n",
       "  <tbody>\n",
       "    <tr>\n",
       "      <th>0</th>\n",
       "      <td>0</td>\n",
       "      <td>Huang High School</td>\n",
       "      <td>District</td>\n",
       "      <td>2917</td>\n",
       "      <td>1910635</td>\n",
       "    </tr>\n",
       "    <tr>\n",
       "      <th>1</th>\n",
       "      <td>1</td>\n",
       "      <td>Figueroa High School</td>\n",
       "      <td>District</td>\n",
       "      <td>2949</td>\n",
       "      <td>1884411</td>\n",
       "    </tr>\n",
       "    <tr>\n",
       "      <th>2</th>\n",
       "      <td>2</td>\n",
       "      <td>Shelton High School</td>\n",
       "      <td>Charter</td>\n",
       "      <td>1761</td>\n",
       "      <td>1056600</td>\n",
       "    </tr>\n",
       "    <tr>\n",
       "      <th>3</th>\n",
       "      <td>3</td>\n",
       "      <td>Hernandez High School</td>\n",
       "      <td>District</td>\n",
       "      <td>4635</td>\n",
       "      <td>3022020</td>\n",
       "    </tr>\n",
       "    <tr>\n",
       "      <th>4</th>\n",
       "      <td>4</td>\n",
       "      <td>Griffin High School</td>\n",
       "      <td>Charter</td>\n",
       "      <td>1468</td>\n",
       "      <td>917500</td>\n",
       "    </tr>\n",
       "  </tbody>\n",
       "</table>\n",
       "</div>"
      ],
      "text/plain": [
       "   School ID            school_name      type  size   budget\n",
       "0          0      Huang High School  District  2917  1910635\n",
       "1          1   Figueroa High School  District  2949  1884411\n",
       "2          2    Shelton High School   Charter  1761  1056600\n",
       "3          3  Hernandez High School  District  4635  3022020\n",
       "4          4    Griffin High School   Charter  1468   917500"
      ]
     },
     "execution_count": 23,
     "metadata": {},
     "output_type": "execute_result"
    }
   ],
   "source": [
    "school_df.head()"
   ]
  },
  {
   "cell_type": "code",
   "execution_count": 24,
   "id": "fc59935f",
   "metadata": {},
   "outputs": [
    {
     "data": {
      "text/html": [
       "<div>\n",
       "<style scoped>\n",
       "    .dataframe tbody tr th:only-of-type {\n",
       "        vertical-align: middle;\n",
       "    }\n",
       "\n",
       "    .dataframe tbody tr th {\n",
       "        vertical-align: top;\n",
       "    }\n",
       "\n",
       "    .dataframe thead th {\n",
       "        text-align: right;\n",
       "    }\n",
       "</style>\n",
       "<table border=\"1\" class=\"dataframe\">\n",
       "  <thead>\n",
       "    <tr style=\"text-align: right;\">\n",
       "      <th></th>\n",
       "      <th>Student ID</th>\n",
       "      <th>student_name</th>\n",
       "      <th>gender</th>\n",
       "      <th>grade</th>\n",
       "      <th>school_name</th>\n",
       "      <th>reading_score</th>\n",
       "      <th>math_score</th>\n",
       "    </tr>\n",
       "  </thead>\n",
       "  <tbody>\n",
       "    <tr>\n",
       "      <th>0</th>\n",
       "      <td>0</td>\n",
       "      <td>Paul Bradley</td>\n",
       "      <td>M</td>\n",
       "      <td>9th</td>\n",
       "      <td>Huang High School</td>\n",
       "      <td>66</td>\n",
       "      <td>79</td>\n",
       "    </tr>\n",
       "    <tr>\n",
       "      <th>1</th>\n",
       "      <td>1</td>\n",
       "      <td>Victor Smith</td>\n",
       "      <td>M</td>\n",
       "      <td>12th</td>\n",
       "      <td>Huang High School</td>\n",
       "      <td>94</td>\n",
       "      <td>61</td>\n",
       "    </tr>\n",
       "    <tr>\n",
       "      <th>2</th>\n",
       "      <td>2</td>\n",
       "      <td>Kevin Rodriguez</td>\n",
       "      <td>M</td>\n",
       "      <td>12th</td>\n",
       "      <td>Huang High School</td>\n",
       "      <td>90</td>\n",
       "      <td>60</td>\n",
       "    </tr>\n",
       "    <tr>\n",
       "      <th>3</th>\n",
       "      <td>3</td>\n",
       "      <td>Dr. Richard Scott</td>\n",
       "      <td>M</td>\n",
       "      <td>12th</td>\n",
       "      <td>Huang High School</td>\n",
       "      <td>67</td>\n",
       "      <td>58</td>\n",
       "    </tr>\n",
       "    <tr>\n",
       "      <th>4</th>\n",
       "      <td>4</td>\n",
       "      <td>Bonnie Ray</td>\n",
       "      <td>F</td>\n",
       "      <td>9th</td>\n",
       "      <td>Huang High School</td>\n",
       "      <td>97</td>\n",
       "      <td>84</td>\n",
       "    </tr>\n",
       "  </tbody>\n",
       "</table>\n",
       "</div>"
      ],
      "text/plain": [
       "   Student ID       student_name gender grade        school_name  \\\n",
       "0           0       Paul Bradley      M   9th  Huang High School   \n",
       "1           1       Victor Smith      M  12th  Huang High School   \n",
       "2           2    Kevin Rodriguez      M  12th  Huang High School   \n",
       "3           3  Dr. Richard Scott      M  12th  Huang High School   \n",
       "4           4         Bonnie Ray      F   9th  Huang High School   \n",
       "\n",
       "   reading_score  math_score  \n",
       "0             66          79  \n",
       "1             94          61  \n",
       "2             90          60  \n",
       "3             67          58  \n",
       "4             97          84  "
      ]
     },
     "execution_count": 24,
     "metadata": {},
     "output_type": "execute_result"
    }
   ],
   "source": [
    "student_df.head()"
   ]
  },
  {
   "cell_type": "code",
   "execution_count": 25,
   "id": "f2084c43",
   "metadata": {},
   "outputs": [
    {
     "data": {
      "text/plain": [
       "School ID      15\n",
       "school_name    15\n",
       "type           15\n",
       "size           15\n",
       "budget         15\n",
       "dtype: int64"
      ]
     },
     "execution_count": 25,
     "metadata": {},
     "output_type": "execute_result"
    }
   ],
   "source": [
    "# Determine if there are any missing values in the school data.\n",
    "school_data_df.count()"
   ]
  },
  {
   "cell_type": "code",
   "execution_count": 26,
   "id": "86795830",
   "metadata": {},
   "outputs": [
    {
     "data": {
      "text/plain": [
       "Student ID       39170\n",
       "student_name     39170\n",
       "gender           39170\n",
       "grade            39170\n",
       "school_name      39170\n",
       "reading_score    39170\n",
       "math_score       39170\n",
       "dtype: int64"
      ]
     },
     "execution_count": 26,
     "metadata": {},
     "output_type": "execute_result"
    }
   ],
   "source": [
    "# Determine if there are any missing values in the student data.\n",
    "student_data_df.count()"
   ]
  },
  {
   "cell_type": "code",
   "execution_count": 27,
   "id": "758e7f35",
   "metadata": {},
   "outputs": [
    {
     "data": {
      "text/plain": [
       "School ID      0\n",
       "school_name    0\n",
       "type           0\n",
       "size           0\n",
       "budget         0\n",
       "dtype: int64"
      ]
     },
     "execution_count": 27,
     "metadata": {},
     "output_type": "execute_result"
    }
   ],
   "source": [
    "# Determine if there are any missing values in the school data.\n",
    "school_data_df.isnull().sum()"
   ]
  },
  {
   "cell_type": "code",
   "execution_count": 28,
   "id": "5767ae08",
   "metadata": {},
   "outputs": [
    {
     "data": {
      "text/plain": [
       "Student ID       0\n",
       "student_name     0\n",
       "gender           0\n",
       "grade            0\n",
       "school_name      0\n",
       "reading_score    0\n",
       "math_score       0\n",
       "dtype: int64"
      ]
     },
     "execution_count": 28,
     "metadata": {},
     "output_type": "execute_result"
    }
   ],
   "source": [
    "# Determine if there are any missing values in the student data.\n",
    "student_data_df.isnull().sum()"
   ]
  },
  {
   "cell_type": "code",
   "execution_count": 29,
   "id": "26998df3",
   "metadata": {},
   "outputs": [
    {
     "data": {
      "text/plain": [
       "School ID       int64\n",
       "school_name    object\n",
       "type           object\n",
       "size            int64\n",
       "budget          int64\n",
       "dtype: object"
      ]
     },
     "execution_count": 29,
     "metadata": {},
     "output_type": "execute_result"
    }
   ],
   "source": [
    "# Determine data types for the school DataFrame.\n",
    "school_data_df.dtypes"
   ]
  },
  {
   "cell_type": "code",
   "execution_count": 30,
   "id": "0a9f1a13",
   "metadata": {},
   "outputs": [
    {
     "data": {
      "text/plain": [
       "Student ID        int64\n",
       "student_name     object\n",
       "gender           object\n",
       "grade            object\n",
       "school_name      object\n",
       "reading_score     int64\n",
       "math_score        int64\n",
       "dtype: object"
      ]
     },
     "execution_count": 30,
     "metadata": {},
     "output_type": "execute_result"
    }
   ],
   "source": [
    "# Determine data types for the student DataFrame.\n",
    "student_data_df.dtypes"
   ]
  },
  {
   "cell_type": "code",
   "execution_count": 31,
   "id": "35e0b716",
   "metadata": {},
   "outputs": [],
   "source": [
    "student_names = student_data_df[\"student_name\"].tolist()"
   ]
  },
  {
   "cell_type": "code",
   "execution_count": 32,
   "id": "c3e1b839",
   "metadata": {},
   "outputs": [
    {
     "data": {
      "text/plain": [
       "1531"
      ]
     },
     "execution_count": 32,
     "metadata": {},
     "output_type": "execute_result"
    }
   ],
   "source": [
    "# Create a new list and use it for the for loop to iterate through the list.\n",
    "students_to_fix = []\n",
    "\n",
    "# Use an if statement to check the length of the name.\n",
    "# If the name is greater than or equal to \"3\", add the name to the list.\n",
    "\n",
    "for name in student_names:\n",
    "    if len(name.split()) >= 3:\n",
    "        students_to_fix.append(name)\n",
    "\n",
    "# Get the length of the students whose names are greater than or equal to \"3\".\n",
    "len(students_to_fix)"
   ]
  },
  {
   "cell_type": "code",
   "execution_count": 33,
   "id": "51958a92",
   "metadata": {},
   "outputs": [
    {
     "name": "stdout",
     "output_type": "stream",
     "text": [
      "['Dr.', 'Dr.', 'Mr.', 'Dr.', 'Miss', 'Luke', 'Dr.', 'Mrs.', 'Mrs.', 'Mr.', 'Dr.', 'Mr.', 'Mr.', 'Mary', 'Mrs.', 'Mrs.', 'Mr.', 'Tara', 'Dr.', 'Mr.', 'Mrs.', 'Mr.', 'Mr.', 'John', 'Mr.', 'Mrs.', 'Mr.', 'Dr.', 'Mr.', 'Mr.', 'Dale', 'Dr.', 'Dr.', 'Dr.', 'Ms.', 'Dr.', 'Dr.', 'Mr.', 'Mrs.', 'Amy', 'Mr.', 'Dr.', 'Mr.', 'Mr.', 'Mrs.', 'Mrs.', 'Mr.', 'Lisa', 'Mr.', 'Dr.', 'Mr.', 'Mr.', 'Mr.', 'Dr.', 'Mr.', 'Mark', 'Mrs.', 'Dr.', 'Dr.', 'Miss', 'Mr.', 'Miss', 'Mr.', 'Mrs.', 'Mr.', 'Mrs.', 'Mr.', 'Mr.', 'Mr.', 'Dr.', 'Dr.', 'Miss', 'Mr.', 'Mrs.', 'Mr.', 'Tara', 'Dr.', 'Mr.', 'Cody', 'Mr.', 'Dr.', 'Mr.', 'Ms.', 'Dr.', 'Mr.', 'Mrs.', 'Sara', 'Mr.', 'Mrs.', 'Dr.', 'Mr.', 'Dr.', 'Mr.', 'Mrs.', 'Mr.', 'Mr.', 'Mr.', 'Mr.', 'Mr.', 'Dr.', 'Mrs.', 'Mr.', 'Mrs.', 'Dr.', 'Ryan', 'Mrs.', 'Mr.', 'Ms.', 'Mr.', 'Dr.', 'John', 'Mr.', 'Dr.', 'Dr.', 'Mrs.', 'Dr.', 'Mrs.', 'Mr.', 'Mr.', 'Mrs.', 'Dr.', 'Dr.', 'Miss', 'Miss', 'Mr.', 'Mr.', 'Mr.', 'Dr.', 'Dr.', 'Mrs.', 'Mr.', 'Ms.', 'Mr.', 'Miss', 'Tony', 'Dr.', 'Mr.', 'Mr.', 'Mrs.', 'Mr.', 'Mrs.', 'Miss', 'Mrs.', 'Jodi', 'Mr.', 'Mr.', 'Mrs.', 'Mr.', 'Mr.', 'Mrs.', 'Mrs.', 'Mrs.', 'Mr.', 'Mr.', 'Mr.', 'Mrs.', 'Dr.', 'Mr.', 'Mr.', 'Mrs.', 'Mr.', 'Mrs.', 'Mr.', 'Dr.', 'Mr.', 'Mr.', 'Ruth', 'Dr.', 'Mr.', 'Ms.', 'Dr.', 'Mr.', 'Mrs.', 'Mr.', 'Dr.', 'Dr.', 'John', 'Dr.', 'Mr.', 'Mrs.', 'Mrs.', 'Mrs.', 'Dr.', 'Mrs.', 'John', 'Amy', 'Adam', 'Dr.', 'Eric', 'Mrs.', 'Mr.', 'Mrs.', 'Dr.', 'Dr.', 'Kyle', 'Mr.', 'Ms.', 'Lynn', 'Dr.', 'Mr.', 'Jon', 'Mrs.', 'Mrs.', 'Mrs.', 'Dr.', 'Mrs.', 'Dr.', 'Dr.', 'Dr.', 'Mrs.', 'Mrs.', 'Judy', 'Mr.', 'Dr.', 'Mr.', 'Mrs.', 'Dr.', 'Mr.', 'Mr.', 'Mr.', 'Sara', 'Dr.', 'Dr.', 'Mrs.', 'Tara', 'Dr.', 'Mrs.', 'Dr.', 'Miss', 'Mrs.', 'Mr.', 'Dr.', 'Miss', 'Tina', 'Dr.', 'Eric', 'Ms.', 'Ms.', 'Mr.', 'Mrs.', 'Dr.', 'Dr.', 'Mr.', 'Mr.', 'Dr.', 'Mr.', 'Mr.', 'Dr.', 'Miss', 'Dr.', 'Paul', 'Mrs.', 'Mr.', 'Mrs.', 'Mr.', 'Mr.', 'Mr.', 'Dr.', 'Mrs.', 'Dr.', 'Dr.', 'Mrs.', 'Mrs.', 'Dr.', 'Dr.', 'Dr.', 'Mr.', 'Ms.', 'Dr.', 'Mr.', 'Mrs.', 'Dr.', 'Mrs.', 'Dr.', 'Mrs.', 'Mr.', 'Dr.', 'Mrs.', 'Mrs.', 'Mrs.', 'Dr.', 'Dr.', 'Mr.', 'Mr.', 'Mr.', 'Dr.', 'Marc', 'Mr.', 'Dr.', 'Dr.', 'Dr.', 'Mrs.', 'Dr.', 'Mrs.', 'Mrs.', 'Mr.', 'Mrs.', 'Dr.', 'Dr.', 'Dr.', 'Dr.', 'Mr.', 'Dr.', 'Mr.', 'Mrs.', 'Dr.', 'Dr.', 'Dr.', 'Amy', 'Dr.', 'Mr.', 'Mrs.', 'Mr.', 'Mrs.', 'Dr.', 'Dr.', 'Mr.', 'Mrs.', 'Dr.', 'Jill', 'Mary', 'Carl', 'Mr.', 'Dr.', 'Jose', 'Mrs.', 'Mary', 'Ms.', 'Jose', 'Lisa', 'Mrs.', 'Mr.', 'Miss', 'Mr.', 'Eric', 'Mr.', 'Mrs.', 'Mrs.', 'Miss', 'Emma', 'Mrs.', 'Dr.', 'Mrs.', 'Mr.', 'Dr.', 'Mr.', 'Mr.', 'Dr.', 'Dr.', 'Mrs.', 'Dr.', 'Dr.', 'Mr.', 'Mr.', 'Ms.', 'Mr.', 'Gary', 'Mr.', 'Lori', 'Mrs.', 'Mr.', 'Mr.', 'Mrs.', 'Mrs.', 'Noah', 'Dawn', 'Dr.', 'Mr.', 'Mr.', 'Mrs.', 'Mrs.', 'Mrs.', 'Dr.', 'Chad', 'Mr.', 'Paul', 'Mrs.', 'Dr.', 'Mrs.', 'Mrs.', 'Mrs.', 'Dr.', 'Dr.', 'Mrs.', 'Mrs.', 'Dr.', 'Miss', 'Mrs.', 'Eric', 'Dr.', 'Mrs.', 'Dr.', 'Mr.', 'Dr.', 'Adam', 'Mr.', 'Dr.', 'Dr.', 'Mr.', 'Mr.', 'Mr.', 'Mr.', 'Anne', 'Mr.', 'Mrs.', 'Troy', 'Mr.', 'Mrs.', 'Dr.', 'Mr.', 'Mr.', 'Mr.', 'Mr.', 'Miss', 'Mr.', 'Anna', 'John', 'Mr.', 'Mr.', 'Mrs.', 'Eric', 'Mr.', 'Dr.', 'Dr.', 'Mr.', 'Mr.', 'Ryan', 'Mrs.', 'Dr.', 'Emma', 'Mr.', 'Mr.', 'Mrs.', 'Miss', 'Mr.', 'Mr.', 'Mrs.', 'Mrs.', 'Mr.', 'Mr.', 'Mr.', 'Mrs.', 'Mr.', 'Dr.', 'Lisa', 'Mr.', 'Dr.', 'Mrs.', 'John', 'Mrs.', 'Ms.', 'Mrs.', 'Mrs.', 'Dr.', 'Mr.', 'Mrs.', 'Mr.', 'Amy', 'Dr.', 'Mr.', 'Dr.', 'Mrs.', 'Dr.', 'Dr.', 'Lori', 'Mr.', 'Dr.', 'Mrs.', 'Amy', 'Dr.', 'Mrs.', 'Dr.', 'Anne', 'Dr.', 'Mr.', 'Mr.', 'Mr.', 'Mr.', 'Mr.', 'Mrs.', 'Mike', 'Mrs.', 'Todd', 'Mrs.', 'Mr.', 'Mr.', 'Mrs.', 'Dr.', 'Mr.', 'Mrs.', 'Dr.', 'Dr.', 'Mrs.', 'Mrs.', 'Mr.', 'Dr.', 'Mrs.', 'Mrs.', 'Dr.', 'Dr.', 'Miss', 'Mr.', 'Mrs.', 'Dr.', 'Dr.', 'Mrs.', 'Mr.', 'Mrs.', 'Mr.', 'Mr.', 'Dr.', 'Mr.', 'Dr.', 'Mrs.', 'Dr.', 'Ms.', 'Mr.', 'Miss', 'Dr.', 'Miss', 'Dr.', 'Leah', 'Miss', 'Mr.', 'Mr.', 'Dr.', 'Mr.', 'Dr.', 'Dr.', 'Dr.', 'Mr.', 'Dr.', 'Dr.', 'Dr.', 'Mr.', 'Dr.', 'Ian', 'Dr.', 'Mr.', 'Dr.', 'Mr.', 'Dr.', 'Mrs.', 'Miss', 'Dr.', 'Mrs.', 'Ms.', 'Dr.', 'Dr.', 'Mark', 'Mr.', 'Kari', 'Mrs.', 'Mrs.', 'Mr.', 'Mrs.', 'Dr.', 'Dr.', 'Mrs.', 'Dr.', 'Mrs.', 'Kara', 'Mark', 'John', 'Mrs.', 'Dr.', 'Mrs.', 'Mr.', 'Eric', 'John', 'Dr.', 'Mrs.', 'Dr.', 'Mr.', 'Paul', 'Dr.', 'Mrs.', 'Dr.', 'Dr.', 'Dr.', 'Adam', 'Mrs.', 'Ms.', 'Dr.', 'Mrs.', 'Dr.', 'Ms.', 'Mrs.', 'Mr.', 'Mr.', 'Mrs.', 'Dr.', 'Mrs.', 'Mr.', 'Dr.', 'Mr.', 'Dr.', 'Dr.', 'Paul', 'Mrs.', 'Cory', 'Mrs.', 'Dr.', 'Dr.', 'Dr.', 'Mr.', 'Mr.', 'Erin', 'Dr.', 'Dr.', 'Ms.', 'Mrs.', 'Mr.', 'Miss', 'Mr.', 'Mr.', 'Mr.', 'Ms.', 'Mrs.', 'Mr.', 'Mrs.', 'Miss', 'Ms.', 'Dr.', 'Dr.', 'Mrs.', 'Mr.', 'Mrs.', 'John', 'Lisa', 'Mr.', 'Mr.', 'Mrs.', 'Mr.', 'Jon', 'Mrs.', 'Dr.', 'Greg', 'Ms.', 'Mrs.', 'Mr.', 'Mrs.', 'Miss', 'Mr.', 'Dr.', 'Joe', 'Dr.', 'Mark', 'Dr.', 'Mrs.', 'Miss', 'Mr.', 'Mr.', 'Mr.', 'Mrs.', 'Dr.', 'Mr.', 'Mr.', 'Mr.', 'Adam', 'Mr.', 'Mr.', 'Dana', 'Dr.', 'Mr.', 'Dr.', 'Mrs.', 'Mr.', 'Erik', 'Mrs.', 'Dr.', 'Miss', 'Mrs.', 'Ms.', 'Mr.', 'Mr.', 'Mr.', 'John', 'Gail', 'Todd', 'Mr.', 'Mr.', 'Mrs.', 'Ms.', 'Ryan', 'Mrs.', 'Mrs.', 'Dr.', 'Erik', 'Omar', 'Mr.', 'Dr.', 'Cody', 'Ms.', 'Dr.', 'Mrs.', 'Dr.', 'Mr.', 'Mr.', 'Miss', 'Mark', 'Dr.', 'Dr.', 'Mr.', 'Mrs.', 'Mr.', 'Mr.', 'Mr.', 'Mrs.', 'Mr.', 'Mrs.', 'Mr.', 'Dr.', 'Dr.', 'Mr.', 'Mr.', 'Mr.', 'Dr.', 'Miss', 'Mrs.', 'Seth', 'Dr.', 'Mrs.', 'Ryan', 'Mrs.', 'Mrs.', 'Mrs.', 'Mr.', 'Mrs.', 'Dr.', 'Mr.', 'Mrs.', 'Ryan', 'Mrs.', 'Mr.', 'Dr.', 'Dr.', 'Mr.', 'Dr.', 'Dr.', 'Mrs.', 'Ms.', 'Dr.', 'Dr.', 'Mr.', 'Mr.', 'Ms.', 'Dr.', 'Dr.', 'Dr.', 'Mr.', 'Mrs.', 'Mr.', 'Lisa', 'Mr.', 'Dr.', 'Chad', 'Gina', 'Dr.', 'Mr.', 'Mr.', 'Mrs.', 'Amy', 'Mr.', 'Mrs.', 'Mr.', 'Dr.', 'Mr.', 'Dr.', 'Mrs.', 'Lisa', 'Mrs.', 'Dr.', 'Miss', 'Mr.', 'Mr.', 'Ms.', 'Mrs.', 'Mr.', 'Mrs.', 'Mr.', 'Dr.', 'Dr.', 'Mr.', 'Lisa', 'Dr.', 'Mr.', 'Ms.', 'Mrs.', 'Mr.', 'Dr.', 'Dr.', 'Mrs.', 'Sean', 'Dr.', 'Dr.', 'Mr.', 'Mr.', 'Miss', 'Miss', 'Dr.', 'Mr.', 'Dr.', 'Dr.', 'Mrs.', 'Mr.', 'Mrs.', 'Mrs.', 'Dr.', 'Mrs.', 'Dr.', 'Mr.', 'Mrs.', 'Mr.', 'Mr.', 'Todd', 'Dr.', 'Mrs.', 'Mrs.', 'Miss', 'Dr.', 'Mrs.', 'Mr.', 'Mr.', 'Mrs.', 'Adam', 'Mrs.', 'Ms.', 'Tony', 'Dr.', 'Miss', 'Toni', 'Ms.', 'Mr.', 'Mr.', 'Dr.', 'Ms.', 'Dr.', 'Mrs.', 'Dr.', 'Dr.', 'Dr.', 'Jose', 'Dr.', 'Dr.', 'Amy', 'John', 'Mrs.', 'Mr.', 'Mrs.', 'Mrs.', 'Miss', 'Mr.', 'Dr.', 'Mary', 'Mark', 'Dr.', 'Ms.', 'Ms.', 'Dr.', 'Mr.', 'Dr.', 'Miss', 'Mr.', 'Dr.', 'Troy', 'John', 'Dr.', 'Kim', 'Mr.', 'Mr.', 'Miss', 'Mary', 'Mrs.', 'Mrs.', 'Mrs.', 'Mr.', 'Dr.', 'Ms.', 'Mrs.', 'Anna', 'Mr.', 'Mrs.', 'Mr.', 'Mr.', 'Dr.', 'Mrs.', 'Dr.', 'Dr.']\n"
     ]
    }
   ],
   "source": [
    "prefixes = []\n",
    "for name in students_to_fix:\n",
    "    if len(name.split()[0]) <= 4:\n",
    "        prefixes.append(name.split()[0])\n",
    "\n",
    "print(prefixes)"
   ]
  },
  {
   "cell_type": "code",
   "execution_count": 34,
   "id": "236594d7",
   "metadata": {},
   "outputs": [
    {
     "name": "stdout",
     "output_type": "stream",
     "text": [
      "['MD', 'MD', 'MD', 'III', 'DVM', 'MD', 'MD', 'MD', 'DDS', 'DVM', 'II', 'MD', 'MD', 'DDS', 'MD', 'DDS', 'MD', 'MD', 'PhD', 'MD', 'DVM', 'Lee', 'MD', 'DDS', 'MD', 'MD', 'MD', 'MD', 'MD', 'MD', 'DDS', 'Jr.', 'DVM', 'MD', 'MD', 'PhD', 'IV', 'MD', 'DDS', 'DDS', 'DDS', 'MD', 'DDS', 'MD', 'DVM', 'IV', 'MD', 'DDS', 'MD', 'MD', 'DVM', 'Jr.', 'MD', 'PhD', 'II', 'MD', 'DDS', 'DDS', 'DDS', 'Jr.', 'III', 'MD', 'MD', 'MD', 'DDS', 'Jr.', 'DDS', 'DVM', 'DDS', 'DVM', 'MD', 'DDS', 'PhD', 'DDS', 'DDS', 'Jr.', 'Jr.', 'DVM', 'DDS', 'MD', 'MD', 'DVM', 'DDS', 'DVM', 'Jr.', 'MD', 'Jr.', 'MD', 'PhD', 'PhD', 'DDS', 'MD', 'DDS', 'DVM', 'Cox', 'DVM', 'MD', 'Jr.', 'MD', 'DDS', 'MD', 'MD', 'DDS', 'DDS', 'Roy', 'DDS', 'DDS', 'DDS', 'II', 'PhD', 'MD', 'PhD', 'DDS', 'MD', 'DDS', 'Jr.', 'Day', 'DDS', 'MD', 'PhD', 'DDS', 'Jr.', 'DDS', 'MD', 'MD', 'MD', 'MD', 'DDS', 'MD', 'DDS', 'PhD', 'DVM', 'DDS', 'MD', 'MD', 'MD', 'DDS', 'Jr.', 'Jr.', 'DDS', 'Jr.', 'MD', 'MD', 'PhD', 'PhD', 'DDS', 'MD', 'MD', 'III', 'DVM', 'PhD', 'Jr.', 'II', 'DDS', 'DDS', 'DVM', 'MD', 'II', 'MD', 'DDS', 'MD', 'DDS', 'PhD', 'DDS', 'DDS', 'II', 'DVM', 'DDS', 'Jr.', 'DVM', 'MD', 'MD', 'DVM', 'MD', 'DDS', 'DVM', 'DDS', 'MD', 'II', 'PhD', 'MD', 'MD', 'MD', 'DDS', 'MD', 'MD', 'DDS', 'DDS', 'MD', 'DDS', 'PhD', 'DVM', 'DVM', 'MD', 'MD', 'DDS', 'DDS', 'PhD', 'MD', 'IV', 'DDS', 'Jr.', 'DDS', 'Jr.', 'MD', 'MD', 'MD', 'DDS', 'MD', 'DVM', 'DVM', 'DDS', 'DDS', 'Jr.', 'MD', 'MD', 'DDS', 'DDS', 'MD', 'MD', 'MD', 'MD', 'DVM', 'MD', 'DVM', 'DVM', 'MD', 'DDS', 'MD', 'Jr.', 'DDS', 'MD', 'MD', 'DVM', 'Jr.', 'DDS', 'MD', 'MD', 'PhD', 'DDS', 'Jr.', 'MD', 'DDS', 'MD', 'DDS', 'Jr.', 'Jr.', 'DVM', 'MD', 'DDS', 'PhD', 'MD', 'PhD', 'MD', 'V', 'II', 'MD', 'PhD', 'DVM', 'MD', 'MD', 'PhD', 'MD', 'MD', 'MD', 'DDS', 'DVM', 'Jr.', 'MD', 'Jr.', 'Jr.', 'DDS', 'PhD', 'DVM', 'DVM', 'MD', 'MD', 'MD', 'DVM', 'MD', 'DDS', 'MD', 'DDS', 'Jr.', 'MD', 'DDS', 'DDS', 'Jr.', 'DVM', 'DVM', 'DDS', 'MD', 'MD', 'DVM', 'MD', 'MD', 'MD', 'DDS', 'MD', 'Jr.', 'MD', 'MD', 'PhD', 'PhD', 'DDS', 'DDS', 'DDS', 'MD', 'MD', 'PhD', 'Jr.', 'MD', 'DDS', 'III', 'DVM', 'Jr.', 'DDS', 'DDS', 'MD', 'DVM', 'MD', 'DDS', 'MD', 'PhD', 'DDS', 'Lee', 'MD', 'Jr.', 'MD', 'DVM', 'DDS', 'DDS', 'MD', 'MD', 'DVM', 'DVM', 'DVM', 'MD', 'DDS', 'DVM', 'DDS', 'MD', 'MD', 'MD', 'DDS', 'PhD', 'DDS', 'DVM', 'DDS', 'DVM', 'DDS', 'DVM', 'DVM', 'DDS', 'II', 'MD', 'III', 'DDS', 'DDS', 'DVM', 'DVM', 'MD', 'Jr.', 'II', 'MD', 'PhD', 'PhD', 'MD', 'DDS', 'DVM', 'DVM', 'MD', 'MD', 'DVM', 'DVM', 'PhD', 'Jr.', 'Jr.', 'MD', 'MD', 'DDS', 'DDS', 'III', 'PhD', 'Jr.', 'MD', 'MD', 'MD', 'DDS', 'MD', 'DDS', 'MD', 'DVM', 'PhD', 'MD', 'MD', 'PhD', 'Jr.', 'MD', 'MD', 'MD', 'MD', 'MD', 'MD', 'DVM', 'DVM', 'PhD', 'DDS', 'DDS', 'MD', 'DDS', 'MD', 'DVM', 'DVM', 'DDS', 'DVM', 'DDS', 'MD', 'MD', 'DVM', 'DVM', 'DDS', 'Jr.', 'PhD', 'MD', 'DVM', 'DVM', 'DDS', 'DVM', 'MD', 'MD', 'MD', 'II', 'DDS', 'DDS', 'DDS', 'MD', 'Jr.', 'MD', 'Jr.', 'DDS', 'MD', 'MD', 'DVM', 'MD', 'DDS', 'DDS', 'PhD', 'Jr.', 'Jr.', 'Jr.', 'DDS', 'Jr.', 'MD', 'MD', 'DDS', 'MD', 'Jr.', 'MD', 'DDS', 'Jr.', 'DDS', 'MD', 'MD', 'Jr.', 'PhD', 'DDS', 'MD', 'II', 'PhD', 'DVM', 'MD', 'DDS', 'PhD', 'MD', 'MD', 'DDS', 'Jr.', 'MD', 'DVM', 'MD', 'MD', 'MD', 'MD', 'MD', 'DDS', 'DVM', 'PhD', 'DVM', 'III', 'Jr.', 'DVM', 'MD', 'MD', 'V', 'Jr.', 'MD', 'DVM', 'MD', 'DDS', 'DVM', 'DDS', 'Jr.', 'MD', 'PhD', 'DVM', 'DDS', 'PhD', 'MD', 'DDS', 'DDS', 'MD', 'DVM', 'IV', 'Jr.', 'MD', 'MD', 'Jr.', 'PhD', 'II', 'Jr.', 'MD', 'MD', 'MD', 'Jr.', 'MD', 'DVM', 'PhD', 'PhD', 'DDS', 'DDS', 'PhD', 'MD', 'Jr.', 'MD', 'DDS', 'MD', 'DDS', 'DVM', 'DDS', 'DVM', 'MD', 'MD', 'PhD', 'Jr.', 'Jr.', 'MD', 'DDS', 'MD', 'DVM', 'MD', 'DVM', 'DDS', 'PhD', 'PhD', 'Kim', 'DDS', 'PhD', 'DVM', 'PhD', 'DVM', 'DDS', 'MD', 'Jr.', 'PhD', 'MD', 'MD', 'II', 'III', 'MD', 'DDS', 'DDS', 'PhD', 'MD', 'DVM', 'MD', 'DDS', 'MD', 'DDS', 'Jr.', 'DDS', 'DDS', 'MD', 'IV', 'Jr.', 'DDS', 'DDS', 'Jr.', 'DVM', 'DVM', 'DVM', 'DVM', 'MD', 'DVM', 'DDS', 'MD', 'MD', 'DDS', 'DDS', 'DVM', 'III', 'DVM', 'MD', 'DVM', 'DDS', 'MD', 'MD', 'DVM', 'DVM', 'MD', 'III', 'DDS', 'MD', 'DDS', 'DVM', 'Jr.', 'III', 'MD', 'MD', 'PhD', 'DVM', 'DDS', 'MD', 'Jr.', 'DDS', 'MD', 'II', 'MD', 'Jr.', 'DDS', 'PhD', 'DDS', 'DDS', 'II', 'Jr.', 'DDS', 'MD', 'II', 'MD', 'MD', 'MD', 'Jr.', 'DDS', 'MD', 'DVM', 'PhD', 'MD', 'DVM', 'DDS', 'DDS', 'DVM', 'DDS', 'DDS', 'MD', 'MD', 'MD', 'MD', 'DDS', 'DVM', 'PhD', 'DDS', 'DDS', 'MD', 'MD', 'MD', 'DDS', 'DVM', 'MD', 'II', 'MD', 'Jr.', 'Jr.', 'MD', 'MD', 'MD', 'MD', 'DVM', 'MD', 'Jr.', 'PhD', 'PhD', 'PhD', 'DDS', 'Jr.', 'DVM', 'DDS', 'MD', 'DVM', 'PhD', 'MD', 'Jr.', 'Jr.', 'DVM', 'MD', 'DDS', 'MD', 'MD', 'Lee', 'MD', 'MD', 'MD', 'DDS', 'PhD', 'MD', 'PhD', 'MD', 'DVM', 'MD', 'MD', 'MD', 'DDS', 'II', 'DVM', 'Jr.', 'DVM', 'MD', 'Jr.', 'DDS', 'DVM', 'DDS', 'Jr.', 'DVM', 'Jr.', 'DDS', 'MD', 'PhD', 'DDS', 'DDS', 'DVM', 'MD', 'MD', 'PhD', 'DDS', 'DDS', 'DDS', 'DDS', 'MD', 'DVM', 'DVM', 'DVM', 'DDS', 'MD', 'MD', 'MD', 'Jr.', 'PhD', 'MD', 'Jr.', 'DVM', 'DDS', 'DVM', 'MD', 'DVM', 'MD', 'DDS', 'DDS', 'PhD', 'DDS', 'Jr.', 'DDS', 'MD', 'MD', 'MD', 'MD', 'DDS', 'DVM', 'MD', 'MD', 'PhD', 'MD', 'MD', 'II', 'MD', 'Jr.', 'PhD', 'MD', 'PhD', 'MD', 'MD', 'DDS', 'Jr.', 'PhD', 'DDS', 'MD', 'DDS', 'DDS', 'MD', 'MD', 'MD', 'Jr.', 'DDS', 'DDS', 'MD', 'MD', 'MD', 'MD', 'IV', 'Jr.', 'MD', 'DDS', 'MD', 'DDS', 'MD', 'MD', 'Jr.', 'MD', 'DVM', 'DVM', 'DVM', 'MD', 'MD', 'DVM', 'DVM', 'PhD', 'Jr.', 'PhD', 'DVM', 'Jr.', 'MD', 'MD', 'DDS', 'III', 'DVM', 'DDS', 'Jr.', 'MD', 'MD', 'Jr.', 'MD', 'MD', 'DVM', 'Jr.', 'Jr.', 'DDS', 'PhD', 'DDS', 'DDS', 'DDS', 'Jr.', 'Jr.', 'MD', 'DVM', 'DDS', 'MD', 'MD', 'PhD', 'DDS', 'MD', 'DDS', 'DVM', 'DVM', 'MD', 'DDS', 'MD', 'MD', 'MD', 'Jr.', 'MD', 'DVM', 'DDS', 'MD', 'PhD', 'MD', 'II', 'Jr.', 'III', 'MD', 'PhD', 'MD', 'MD', 'PhD', 'II', 'DDS', 'DVM', 'DDS', 'MD', 'DDS', 'MD', 'DVM', 'MD', 'III', 'DDS', 'MD', 'DVM', 'MD', 'II', 'DDS', 'MD', 'MD', 'DDS', 'MD', 'MD', 'DVM', 'MD', 'MD', 'MD', 'II', 'DDS', 'Jr.', 'MD', 'DDS', 'MD', 'MD', 'MD', 'MD', 'DDS', 'IV', 'MD', 'Jr.', 'III', 'DDS', 'DDS', 'MD', 'DDS', 'DVM', 'DVM', 'PhD', 'MD', 'II', 'Li', 'DVM', 'MD', 'DVM', 'DDS', 'DDS', 'DDS', 'DVM', 'MD', 'DVM', 'MD', 'MD', 'MD', 'MD', 'Jr.', 'DVM', 'MD', 'MD', 'MD', 'MD', 'DDS', 'MD', 'PhD', 'DDS', 'MD', 'MD', 'DDS', 'Jr.', 'DDS', 'DDS', 'DVM', 'DDS', 'DDS', 'MD', 'Jr.', 'DDS', 'PhD', 'Jr.', 'DDS']\n"
     ]
    }
   ],
   "source": [
    "# Add the suffixes less than or equal to 3 to a new list.\n",
    "suffixes = []\n",
    "for name in students_to_fix:\n",
    "    if len(name.split()[-1]) <= 3:\n",
    "        suffixes.append(name.split()[-1])\n",
    "\n",
    "print(suffixes)"
   ]
  },
  {
   "cell_type": "code",
   "execution_count": 35,
   "id": "92daca74",
   "metadata": {},
   "outputs": [
    {
     "data": {
      "text/plain": [
       "{'Adam',\n",
       " 'Amy',\n",
       " 'Anna',\n",
       " 'Anne',\n",
       " 'Carl',\n",
       " 'Chad',\n",
       " 'Cody',\n",
       " 'Cory',\n",
       " 'Dale',\n",
       " 'Dana',\n",
       " 'Dawn',\n",
       " 'Dr.',\n",
       " 'Emma',\n",
       " 'Eric',\n",
       " 'Erik',\n",
       " 'Erin',\n",
       " 'Gail',\n",
       " 'Gary',\n",
       " 'Gina',\n",
       " 'Greg',\n",
       " 'Ian',\n",
       " 'Jill',\n",
       " 'Jodi',\n",
       " 'Joe',\n",
       " 'John',\n",
       " 'Jon',\n",
       " 'Jose',\n",
       " 'Judy',\n",
       " 'Kara',\n",
       " 'Kari',\n",
       " 'Kim',\n",
       " 'Kyle',\n",
       " 'Leah',\n",
       " 'Lisa',\n",
       " 'Lori',\n",
       " 'Luke',\n",
       " 'Lynn',\n",
       " 'Marc',\n",
       " 'Mark',\n",
       " 'Mary',\n",
       " 'Mike',\n",
       " 'Miss',\n",
       " 'Mr.',\n",
       " 'Mrs.',\n",
       " 'Ms.',\n",
       " 'Noah',\n",
       " 'Omar',\n",
       " 'Paul',\n",
       " 'Ruth',\n",
       " 'Ryan',\n",
       " 'Sara',\n",
       " 'Sean',\n",
       " 'Seth',\n",
       " 'Tara',\n",
       " 'Tina',\n",
       " 'Todd',\n",
       " 'Toni',\n",
       " 'Tony',\n",
       " 'Troy'}"
      ]
     },
     "execution_count": 35,
     "metadata": {},
     "output_type": "execute_result"
    }
   ],
   "source": [
    "# Get the unique items in the \"prefixes\" list.\n",
    "set(prefixes)"
   ]
  },
  {
   "cell_type": "code",
   "execution_count": 36,
   "id": "280148e6",
   "metadata": {},
   "outputs": [
    {
     "data": {
      "text/plain": [
       "{'Cox',\n",
       " 'DDS',\n",
       " 'DVM',\n",
       " 'Day',\n",
       " 'II',\n",
       " 'III',\n",
       " 'IV',\n",
       " 'Jr.',\n",
       " 'Kim',\n",
       " 'Lee',\n",
       " 'Li',\n",
       " 'MD',\n",
       " 'PhD',\n",
       " 'Roy',\n",
       " 'V'}"
      ]
     },
     "execution_count": 36,
     "metadata": {},
     "output_type": "execute_result"
    }
   ],
   "source": [
    "# Get the unique items in the \"suffixes\" list.\n",
    "set(suffixes)"
   ]
  },
  {
   "cell_type": "code",
   "execution_count": 49,
   "id": "0ec5c531",
   "metadata": {},
   "outputs": [],
   "source": [
    "# Add each prefix and suffix to remove to a list.\n",
    "prefixes_suffixes = [\"Dr. \", \"Mr. \",\"Ms. \", \"Mrs. \", \"Miss \", \" MD\", \" DDS\", \" DVM\", \" PhD\"]"
   ]
  },
  {
   "cell_type": "code",
   "execution_count": 50,
   "id": "7bf38489",
   "metadata": {},
   "outputs": [
    {
     "name": "stderr",
     "output_type": "stream",
     "text": [
      "C:\\Users\\Mihir\\anaconda3\\envs\\PythonData\\lib\\site-packages\\ipykernel_launcher.py:2: FutureWarning: The default value of regex will change from True to False in a future version.\n",
      "  \n"
     ]
    },
    {
     "data": {
      "text/html": [
       "<div>\n",
       "<style scoped>\n",
       "    .dataframe tbody tr th:only-of-type {\n",
       "        vertical-align: middle;\n",
       "    }\n",
       "\n",
       "    .dataframe tbody tr th {\n",
       "        vertical-align: top;\n",
       "    }\n",
       "\n",
       "    .dataframe thead th {\n",
       "        text-align: right;\n",
       "    }\n",
       "</style>\n",
       "<table border=\"1\" class=\"dataframe\">\n",
       "  <thead>\n",
       "    <tr style=\"text-align: right;\">\n",
       "      <th></th>\n",
       "      <th>Student ID</th>\n",
       "      <th>student_name</th>\n",
       "      <th>gender</th>\n",
       "      <th>grade</th>\n",
       "      <th>school_name</th>\n",
       "      <th>reading_score</th>\n",
       "      <th>math_score</th>\n",
       "    </tr>\n",
       "  </thead>\n",
       "  <tbody>\n",
       "    <tr>\n",
       "      <th>0</th>\n",
       "      <td>0</td>\n",
       "      <td>Paul Bradley</td>\n",
       "      <td>M</td>\n",
       "      <td>9th</td>\n",
       "      <td>Huang High School</td>\n",
       "      <td>66</td>\n",
       "      <td>79</td>\n",
       "    </tr>\n",
       "    <tr>\n",
       "      <th>1</th>\n",
       "      <td>1</td>\n",
       "      <td>Victor Smith</td>\n",
       "      <td>M</td>\n",
       "      <td>12th</td>\n",
       "      <td>Huang High School</td>\n",
       "      <td>94</td>\n",
       "      <td>61</td>\n",
       "    </tr>\n",
       "    <tr>\n",
       "      <th>2</th>\n",
       "      <td>2</td>\n",
       "      <td>Kevin Rodriguez</td>\n",
       "      <td>M</td>\n",
       "      <td>12th</td>\n",
       "      <td>Huang High School</td>\n",
       "      <td>90</td>\n",
       "      <td>60</td>\n",
       "    </tr>\n",
       "    <tr>\n",
       "      <th>3</th>\n",
       "      <td>3</td>\n",
       "      <td>Richard Scott</td>\n",
       "      <td>M</td>\n",
       "      <td>12th</td>\n",
       "      <td>Huang High School</td>\n",
       "      <td>67</td>\n",
       "      <td>58</td>\n",
       "    </tr>\n",
       "    <tr>\n",
       "      <th>4</th>\n",
       "      <td>4</td>\n",
       "      <td>Bonnie Ray</td>\n",
       "      <td>F</td>\n",
       "      <td>9th</td>\n",
       "      <td>Huang High School</td>\n",
       "      <td>97</td>\n",
       "      <td>84</td>\n",
       "    </tr>\n",
       "    <tr>\n",
       "      <th>...</th>\n",
       "      <td>...</td>\n",
       "      <td>...</td>\n",
       "      <td>...</td>\n",
       "      <td>...</td>\n",
       "      <td>...</td>\n",
       "      <td>...</td>\n",
       "      <td>...</td>\n",
       "    </tr>\n",
       "    <tr>\n",
       "      <th>39165</th>\n",
       "      <td>39165</td>\n",
       "      <td>Donna Howard</td>\n",
       "      <td>F</td>\n",
       "      <td>12th</td>\n",
       "      <td>Thomas High School</td>\n",
       "      <td>99</td>\n",
       "      <td>90</td>\n",
       "    </tr>\n",
       "    <tr>\n",
       "      <th>39166</th>\n",
       "      <td>39166</td>\n",
       "      <td>Dawn Bell</td>\n",
       "      <td>F</td>\n",
       "      <td>10th</td>\n",
       "      <td>Thomas High School</td>\n",
       "      <td>95</td>\n",
       "      <td>70</td>\n",
       "    </tr>\n",
       "    <tr>\n",
       "      <th>39167</th>\n",
       "      <td>39167</td>\n",
       "      <td>Rebecca Tanner</td>\n",
       "      <td>F</td>\n",
       "      <td>9th</td>\n",
       "      <td>Thomas High School</td>\n",
       "      <td>73</td>\n",
       "      <td>84</td>\n",
       "    </tr>\n",
       "    <tr>\n",
       "      <th>39168</th>\n",
       "      <td>39168</td>\n",
       "      <td>Desiree Kidd</td>\n",
       "      <td>F</td>\n",
       "      <td>10th</td>\n",
       "      <td>Thomas High School</td>\n",
       "      <td>99</td>\n",
       "      <td>90</td>\n",
       "    </tr>\n",
       "    <tr>\n",
       "      <th>39169</th>\n",
       "      <td>39169</td>\n",
       "      <td>Carolyn Jackson</td>\n",
       "      <td>F</td>\n",
       "      <td>11th</td>\n",
       "      <td>Thomas High School</td>\n",
       "      <td>95</td>\n",
       "      <td>75</td>\n",
       "    </tr>\n",
       "  </tbody>\n",
       "</table>\n",
       "<p>39170 rows × 7 columns</p>\n",
       "</div>"
      ],
      "text/plain": [
       "       Student ID     student_name gender grade         school_name  \\\n",
       "0               0     Paul Bradley      M   9th   Huang High School   \n",
       "1               1     Victor Smith      M  12th   Huang High School   \n",
       "2               2  Kevin Rodriguez      M  12th   Huang High School   \n",
       "3               3    Richard Scott      M  12th   Huang High School   \n",
       "4               4       Bonnie Ray      F   9th   Huang High School   \n",
       "...           ...              ...    ...   ...                 ...   \n",
       "39165       39165     Donna Howard      F  12th  Thomas High School   \n",
       "39166       39166        Dawn Bell      F  10th  Thomas High School   \n",
       "39167       39167   Rebecca Tanner      F   9th  Thomas High School   \n",
       "39168       39168     Desiree Kidd      F  10th  Thomas High School   \n",
       "39169       39169  Carolyn Jackson      F  11th  Thomas High School   \n",
       "\n",
       "       reading_score  math_score  \n",
       "0                 66          79  \n",
       "1                 94          61  \n",
       "2                 90          60  \n",
       "3                 67          58  \n",
       "4                 97          84  \n",
       "...              ...         ...  \n",
       "39165             99          90  \n",
       "39166             95          70  \n",
       "39167             73          84  \n",
       "39168             99          90  \n",
       "39169             95          75  \n",
       "\n",
       "[39170 rows x 7 columns]"
      ]
     },
     "execution_count": 50,
     "metadata": {},
     "output_type": "execute_result"
    }
   ],
   "source": [
    "for word in prefixes_suffixes:\n",
    "    student_data_df[\"student_name\"] = student_data_df[\"student_name\"].str.replace(word,\"\")\n",
    "    \n",
    "student_data_df"
   ]
  },
  {
   "cell_type": "code",
   "execution_count": 57,
   "id": "32642ca5",
   "metadata": {},
   "outputs": [],
   "source": [
    "#testing to see if prefixes were deleted\n",
    "#for name in student_data_df[\"student_name\"]:\n",
    "#    if len(name.split()) == 3:\n",
    "#        print(name)"
   ]
  },
  {
   "cell_type": "markdown",
   "id": "d4526d95",
   "metadata": {},
   "source": [
    "## District summary"
   ]
  },
  {
   "cell_type": "code",
   "execution_count": 58,
   "id": "5e7d6e6a",
   "metadata": {},
   "outputs": [
    {
     "data": {
      "text/html": [
       "<div>\n",
       "<style scoped>\n",
       "    .dataframe tbody tr th:only-of-type {\n",
       "        vertical-align: middle;\n",
       "    }\n",
       "\n",
       "    .dataframe tbody tr th {\n",
       "        vertical-align: top;\n",
       "    }\n",
       "\n",
       "    .dataframe thead th {\n",
       "        text-align: right;\n",
       "    }\n",
       "</style>\n",
       "<table border=\"1\" class=\"dataframe\">\n",
       "  <thead>\n",
       "    <tr style=\"text-align: right;\">\n",
       "      <th></th>\n",
       "      <th>Student ID</th>\n",
       "      <th>student_name</th>\n",
       "      <th>gender</th>\n",
       "      <th>grade</th>\n",
       "      <th>school_name</th>\n",
       "      <th>reading_score</th>\n",
       "      <th>math_score</th>\n",
       "      <th>School ID</th>\n",
       "      <th>type</th>\n",
       "      <th>size</th>\n",
       "      <th>budget</th>\n",
       "    </tr>\n",
       "  </thead>\n",
       "  <tbody>\n",
       "    <tr>\n",
       "      <th>0</th>\n",
       "      <td>0</td>\n",
       "      <td>Paul Bradley</td>\n",
       "      <td>M</td>\n",
       "      <td>9th</td>\n",
       "      <td>Huang High School</td>\n",
       "      <td>66</td>\n",
       "      <td>79</td>\n",
       "      <td>0</td>\n",
       "      <td>District</td>\n",
       "      <td>2917</td>\n",
       "      <td>1910635</td>\n",
       "    </tr>\n",
       "    <tr>\n",
       "      <th>1</th>\n",
       "      <td>1</td>\n",
       "      <td>Victor Smith</td>\n",
       "      <td>M</td>\n",
       "      <td>12th</td>\n",
       "      <td>Huang High School</td>\n",
       "      <td>94</td>\n",
       "      <td>61</td>\n",
       "      <td>0</td>\n",
       "      <td>District</td>\n",
       "      <td>2917</td>\n",
       "      <td>1910635</td>\n",
       "    </tr>\n",
       "    <tr>\n",
       "      <th>2</th>\n",
       "      <td>2</td>\n",
       "      <td>Kevin Rodriguez</td>\n",
       "      <td>M</td>\n",
       "      <td>12th</td>\n",
       "      <td>Huang High School</td>\n",
       "      <td>90</td>\n",
       "      <td>60</td>\n",
       "      <td>0</td>\n",
       "      <td>District</td>\n",
       "      <td>2917</td>\n",
       "      <td>1910635</td>\n",
       "    </tr>\n",
       "    <tr>\n",
       "      <th>3</th>\n",
       "      <td>3</td>\n",
       "      <td>Richard Scott</td>\n",
       "      <td>M</td>\n",
       "      <td>12th</td>\n",
       "      <td>Huang High School</td>\n",
       "      <td>67</td>\n",
       "      <td>58</td>\n",
       "      <td>0</td>\n",
       "      <td>District</td>\n",
       "      <td>2917</td>\n",
       "      <td>1910635</td>\n",
       "    </tr>\n",
       "    <tr>\n",
       "      <th>4</th>\n",
       "      <td>4</td>\n",
       "      <td>Bonnie Ray</td>\n",
       "      <td>F</td>\n",
       "      <td>9th</td>\n",
       "      <td>Huang High School</td>\n",
       "      <td>97</td>\n",
       "      <td>84</td>\n",
       "      <td>0</td>\n",
       "      <td>District</td>\n",
       "      <td>2917</td>\n",
       "      <td>1910635</td>\n",
       "    </tr>\n",
       "  </tbody>\n",
       "</table>\n",
       "</div>"
      ],
      "text/plain": [
       "   Student ID     student_name gender grade        school_name  reading_score  \\\n",
       "0           0     Paul Bradley      M   9th  Huang High School             66   \n",
       "1           1     Victor Smith      M  12th  Huang High School             94   \n",
       "2           2  Kevin Rodriguez      M  12th  Huang High School             90   \n",
       "3           3    Richard Scott      M  12th  Huang High School             67   \n",
       "4           4       Bonnie Ray      F   9th  Huang High School             97   \n",
       "\n",
       "   math_score  School ID      type  size   budget  \n",
       "0          79          0  District  2917  1910635  \n",
       "1          61          0  District  2917  1910635  \n",
       "2          60          0  District  2917  1910635  \n",
       "3          58          0  District  2917  1910635  \n",
       "4          84          0  District  2917  1910635  "
      ]
     },
     "execution_count": 58,
     "metadata": {},
     "output_type": "execute_result"
    }
   ],
   "source": [
    "# Combine the data into a single dataset.\n",
    "school_data_complete_df = pd.merge(student_data_df, school_data_df, on=[\"school_name\", \"school_name\"])\n",
    "school_data_complete_df.head()"
   ]
  },
  {
   "cell_type": "code",
   "execution_count": 98,
   "id": "cff7c1f7",
   "metadata": {},
   "outputs": [
    {
     "data": {
      "text/plain": [
       "39170"
      ]
     },
     "execution_count": 98,
     "metadata": {},
     "output_type": "execute_result"
    }
   ],
   "source": [
    "# Get the total number of students.\n",
    "student_count = school_data_complete_df[\"Student ID\"].count()\n",
    "student_count"
   ]
  },
  {
   "cell_type": "code",
   "execution_count": 71,
   "id": "aa1feb86",
   "metadata": {
    "scrolled": false
   },
   "outputs": [
    {
     "data": {
      "text/plain": [
       "15"
      ]
     },
     "execution_count": 71,
     "metadata": {},
     "output_type": "execute_result"
    }
   ],
   "source": [
    "# Get the total number of schools.\n",
    "school_count = school_data_df[\"school_name\"].count()\n",
    "school_count"
   ]
  },
  {
   "cell_type": "code",
   "execution_count": 72,
   "id": "e452a06e",
   "metadata": {},
   "outputs": [
    {
     "data": {
      "text/plain": [
       "24649428"
      ]
     },
     "execution_count": 72,
     "metadata": {},
     "output_type": "execute_result"
    }
   ],
   "source": [
    "# Calculate the total budget.\n",
    "total_budget = school_data_df[\"budget\"].sum()\n",
    "total_budget"
   ]
  },
  {
   "cell_type": "code",
   "execution_count": 73,
   "id": "aba4a37a",
   "metadata": {},
   "outputs": [
    {
     "data": {
      "text/plain": [
       "81.87784018381414"
      ]
     },
     "execution_count": 73,
     "metadata": {},
     "output_type": "execute_result"
    }
   ],
   "source": [
    "# Calculate the average reading score.\n",
    "average_reading_score = school_data_complete_df[\"reading_score\"].mean()\n",
    "average_reading_score"
   ]
  },
  {
   "cell_type": "code",
   "execution_count": 74,
   "id": "cc07605e",
   "metadata": {},
   "outputs": [
    {
     "data": {
      "text/plain": [
       "78.98537145774827"
      ]
     },
     "execution_count": 74,
     "metadata": {},
     "output_type": "execute_result"
    }
   ],
   "source": [
    "# Calculate the average math score.\n",
    "average_math_score = school_data_complete_df[\"math_score\"].mean()\n",
    "average_math_score"
   ]
  },
  {
   "cell_type": "code",
   "execution_count": 75,
   "id": "8a67d833",
   "metadata": {},
   "outputs": [],
   "source": [
    "passing_math = school_data_complete_df[\"math_score\"] >= 70\n",
    "passing_reading = school_data_complete_df[\"reading_score\"] >= 70"
   ]
  },
  {
   "cell_type": "code",
   "execution_count": 76,
   "id": "9301d228",
   "metadata": {},
   "outputs": [
    {
     "data": {
      "text/html": [
       "<div>\n",
       "<style scoped>\n",
       "    .dataframe tbody tr th:only-of-type {\n",
       "        vertical-align: middle;\n",
       "    }\n",
       "\n",
       "    .dataframe tbody tr th {\n",
       "        vertical-align: top;\n",
       "    }\n",
       "\n",
       "    .dataframe thead th {\n",
       "        text-align: right;\n",
       "    }\n",
       "</style>\n",
       "<table border=\"1\" class=\"dataframe\">\n",
       "  <thead>\n",
       "    <tr style=\"text-align: right;\">\n",
       "      <th></th>\n",
       "      <th>Student ID</th>\n",
       "      <th>student_name</th>\n",
       "      <th>gender</th>\n",
       "      <th>grade</th>\n",
       "      <th>school_name</th>\n",
       "      <th>reading_score</th>\n",
       "      <th>math_score</th>\n",
       "      <th>School ID</th>\n",
       "      <th>type</th>\n",
       "      <th>size</th>\n",
       "      <th>budget</th>\n",
       "    </tr>\n",
       "  </thead>\n",
       "  <tbody>\n",
       "    <tr>\n",
       "      <th>0</th>\n",
       "      <td>0</td>\n",
       "      <td>Paul Bradley</td>\n",
       "      <td>M</td>\n",
       "      <td>9th</td>\n",
       "      <td>Huang High School</td>\n",
       "      <td>66</td>\n",
       "      <td>79</td>\n",
       "      <td>0</td>\n",
       "      <td>District</td>\n",
       "      <td>2917</td>\n",
       "      <td>1910635</td>\n",
       "    </tr>\n",
       "    <tr>\n",
       "      <th>4</th>\n",
       "      <td>4</td>\n",
       "      <td>Bonnie Ray</td>\n",
       "      <td>F</td>\n",
       "      <td>9th</td>\n",
       "      <td>Huang High School</td>\n",
       "      <td>97</td>\n",
       "      <td>84</td>\n",
       "      <td>0</td>\n",
       "      <td>District</td>\n",
       "      <td>2917</td>\n",
       "      <td>1910635</td>\n",
       "    </tr>\n",
       "    <tr>\n",
       "      <th>5</th>\n",
       "      <td>5</td>\n",
       "      <td>Bryan Miranda</td>\n",
       "      <td>M</td>\n",
       "      <td>9th</td>\n",
       "      <td>Huang High School</td>\n",
       "      <td>94</td>\n",
       "      <td>94</td>\n",
       "      <td>0</td>\n",
       "      <td>District</td>\n",
       "      <td>2917</td>\n",
       "      <td>1910635</td>\n",
       "    </tr>\n",
       "    <tr>\n",
       "      <th>6</th>\n",
       "      <td>6</td>\n",
       "      <td>Sheena Carter</td>\n",
       "      <td>F</td>\n",
       "      <td>11th</td>\n",
       "      <td>Huang High School</td>\n",
       "      <td>82</td>\n",
       "      <td>80</td>\n",
       "      <td>0</td>\n",
       "      <td>District</td>\n",
       "      <td>2917</td>\n",
       "      <td>1910635</td>\n",
       "    </tr>\n",
       "    <tr>\n",
       "      <th>8</th>\n",
       "      <td>8</td>\n",
       "      <td>Michael Roth</td>\n",
       "      <td>M</td>\n",
       "      <td>10th</td>\n",
       "      <td>Huang High School</td>\n",
       "      <td>95</td>\n",
       "      <td>87</td>\n",
       "      <td>0</td>\n",
       "      <td>District</td>\n",
       "      <td>2917</td>\n",
       "      <td>1910635</td>\n",
       "    </tr>\n",
       "  </tbody>\n",
       "</table>\n",
       "</div>"
      ],
      "text/plain": [
       "   Student ID   student_name gender grade        school_name  reading_score  \\\n",
       "0           0   Paul Bradley      M   9th  Huang High School             66   \n",
       "4           4     Bonnie Ray      F   9th  Huang High School             97   \n",
       "5           5  Bryan Miranda      M   9th  Huang High School             94   \n",
       "6           6  Sheena Carter      F  11th  Huang High School             82   \n",
       "8           8   Michael Roth      M  10th  Huang High School             95   \n",
       "\n",
       "   math_score  School ID      type  size   budget  \n",
       "0          79          0  District  2917  1910635  \n",
       "4          84          0  District  2917  1910635  \n",
       "5          94          0  District  2917  1910635  \n",
       "6          80          0  District  2917  1910635  \n",
       "8          87          0  District  2917  1910635  "
      ]
     },
     "execution_count": 76,
     "metadata": {},
     "output_type": "execute_result"
    }
   ],
   "source": [
    "# Get all the students who are passing math in a new DataFrame.\n",
    "passing_math = school_data_complete_df[school_data_complete_df[\"math_score\"] >= 70]\n",
    "passing_math.head()"
   ]
  },
  {
   "cell_type": "code",
   "execution_count": 77,
   "id": "7ff38456",
   "metadata": {},
   "outputs": [],
   "source": [
    "# Get all the students that are passing reading in a new DataFrame.\n",
    "passing_reading = school_data_complete_df[school_data_complete_df[\"reading_score\"] >= 70]"
   ]
  },
  {
   "cell_type": "code",
   "execution_count": 78,
   "id": "b292aa05",
   "metadata": {},
   "outputs": [
    {
     "data": {
      "text/plain": [
       "29370"
      ]
     },
     "execution_count": 78,
     "metadata": {},
     "output_type": "execute_result"
    }
   ],
   "source": [
    "len(passing_math)"
   ]
  },
  {
   "cell_type": "code",
   "execution_count": 79,
   "id": "e8dbd81d",
   "metadata": {},
   "outputs": [],
   "source": [
    "# Calculate the number of students passing math.\n",
    "passing_math_count = passing_math[\"student_name\"].count()\n",
    "\n",
    "# Calculate the number of students passing reading.\n",
    "passing_reading_count = passing_reading[\"student_name\"].count()"
   ]
  },
  {
   "cell_type": "code",
   "execution_count": 81,
   "id": "484b64f4",
   "metadata": {},
   "outputs": [
    {
     "data": {
      "text/plain": [
       "33610"
      ]
     },
     "execution_count": 81,
     "metadata": {},
     "output_type": "execute_result"
    }
   ],
   "source": [
    "passing_reading_count"
   ]
  },
  {
   "cell_type": "code",
   "execution_count": 85,
   "id": "f3d62858",
   "metadata": {},
   "outputs": [
    {
     "data": {
      "text/plain": [
       "74.9808526933878"
      ]
     },
     "execution_count": 85,
     "metadata": {},
     "output_type": "execute_result"
    }
   ],
   "source": [
    "percentage_math = passing_math_count/float(student_count)*100\n",
    "percentage_math"
   ]
  },
  {
   "cell_type": "code",
   "execution_count": 86,
   "id": "bc895c78",
   "metadata": {},
   "outputs": [
    {
     "data": {
      "text/plain": [
       "85.80546336482001"
      ]
     },
     "execution_count": 86,
     "metadata": {},
     "output_type": "execute_result"
    }
   ],
   "source": [
    "percentage_reading = passing_reading_count/float(student_count)*100\n",
    "percentage_reading"
   ]
  },
  {
   "cell_type": "code",
   "execution_count": 87,
   "id": "8b538cef",
   "metadata": {},
   "outputs": [
    {
     "data": {
      "text/html": [
       "<div>\n",
       "<style scoped>\n",
       "    .dataframe tbody tr th:only-of-type {\n",
       "        vertical-align: middle;\n",
       "    }\n",
       "\n",
       "    .dataframe tbody tr th {\n",
       "        vertical-align: top;\n",
       "    }\n",
       "\n",
       "    .dataframe thead th {\n",
       "        text-align: right;\n",
       "    }\n",
       "</style>\n",
       "<table border=\"1\" class=\"dataframe\">\n",
       "  <thead>\n",
       "    <tr style=\"text-align: right;\">\n",
       "      <th></th>\n",
       "      <th>Student ID</th>\n",
       "      <th>student_name</th>\n",
       "      <th>gender</th>\n",
       "      <th>grade</th>\n",
       "      <th>school_name</th>\n",
       "      <th>reading_score</th>\n",
       "      <th>math_score</th>\n",
       "      <th>School ID</th>\n",
       "      <th>type</th>\n",
       "      <th>size</th>\n",
       "      <th>budget</th>\n",
       "    </tr>\n",
       "  </thead>\n",
       "  <tbody>\n",
       "    <tr>\n",
       "      <th>4</th>\n",
       "      <td>4</td>\n",
       "      <td>Bonnie Ray</td>\n",
       "      <td>F</td>\n",
       "      <td>9th</td>\n",
       "      <td>Huang High School</td>\n",
       "      <td>97</td>\n",
       "      <td>84</td>\n",
       "      <td>0</td>\n",
       "      <td>District</td>\n",
       "      <td>2917</td>\n",
       "      <td>1910635</td>\n",
       "    </tr>\n",
       "    <tr>\n",
       "      <th>5</th>\n",
       "      <td>5</td>\n",
       "      <td>Bryan Miranda</td>\n",
       "      <td>M</td>\n",
       "      <td>9th</td>\n",
       "      <td>Huang High School</td>\n",
       "      <td>94</td>\n",
       "      <td>94</td>\n",
       "      <td>0</td>\n",
       "      <td>District</td>\n",
       "      <td>2917</td>\n",
       "      <td>1910635</td>\n",
       "    </tr>\n",
       "    <tr>\n",
       "      <th>6</th>\n",
       "      <td>6</td>\n",
       "      <td>Sheena Carter</td>\n",
       "      <td>F</td>\n",
       "      <td>11th</td>\n",
       "      <td>Huang High School</td>\n",
       "      <td>82</td>\n",
       "      <td>80</td>\n",
       "      <td>0</td>\n",
       "      <td>District</td>\n",
       "      <td>2917</td>\n",
       "      <td>1910635</td>\n",
       "    </tr>\n",
       "    <tr>\n",
       "      <th>8</th>\n",
       "      <td>8</td>\n",
       "      <td>Michael Roth</td>\n",
       "      <td>M</td>\n",
       "      <td>10th</td>\n",
       "      <td>Huang High School</td>\n",
       "      <td>95</td>\n",
       "      <td>87</td>\n",
       "      <td>0</td>\n",
       "      <td>District</td>\n",
       "      <td>2917</td>\n",
       "      <td>1910635</td>\n",
       "    </tr>\n",
       "    <tr>\n",
       "      <th>9</th>\n",
       "      <td>9</td>\n",
       "      <td>Matthew Greene</td>\n",
       "      <td>M</td>\n",
       "      <td>10th</td>\n",
       "      <td>Huang High School</td>\n",
       "      <td>96</td>\n",
       "      <td>84</td>\n",
       "      <td>0</td>\n",
       "      <td>District</td>\n",
       "      <td>2917</td>\n",
       "      <td>1910635</td>\n",
       "    </tr>\n",
       "  </tbody>\n",
       "</table>\n",
       "</div>"
      ],
      "text/plain": [
       "   Student ID    student_name gender grade        school_name  reading_score  \\\n",
       "4           4      Bonnie Ray      F   9th  Huang High School             97   \n",
       "5           5   Bryan Miranda      M   9th  Huang High School             94   \n",
       "6           6   Sheena Carter      F  11th  Huang High School             82   \n",
       "8           8    Michael Roth      M  10th  Huang High School             95   \n",
       "9           9  Matthew Greene      M  10th  Huang High School             96   \n",
       "\n",
       "   math_score  School ID      type  size   budget  \n",
       "4          84          0  District  2917  1910635  \n",
       "5          94          0  District  2917  1910635  \n",
       "6          80          0  District  2917  1910635  \n",
       "8          87          0  District  2917  1910635  \n",
       "9          84          0  District  2917  1910635  "
      ]
     },
     "execution_count": 87,
     "metadata": {},
     "output_type": "execute_result"
    }
   ],
   "source": [
    "# Calculate the students who passed both math and reading.\n",
    "passing_math_reading = school_data_complete_df[(school_data_complete_df[\"math_score\"] >= 70) & (school_data_complete_df[\"reading_score\"] >= 70)]\n",
    "\n",
    "passing_math_reading.head()"
   ]
  },
  {
   "cell_type": "code",
   "execution_count": 88,
   "id": "6972139e",
   "metadata": {},
   "outputs": [
    {
     "data": {
      "text/plain": [
       "25528"
      ]
     },
     "execution_count": 88,
     "metadata": {},
     "output_type": "execute_result"
    }
   ],
   "source": [
    "# Calculate the number of students who passed both math and reading.\n",
    "overall_passing_math_reading_count = passing_math_reading[\"student_name\"].count()\n",
    "overall_passing_math_reading_count"
   ]
  },
  {
   "cell_type": "code",
   "execution_count": 95,
   "id": "9857af78",
   "metadata": {},
   "outputs": [
    {
     "data": {
      "text/plain": [
       "65.17232575950983"
      ]
     },
     "execution_count": 95,
     "metadata": {},
     "output_type": "execute_result"
    }
   ],
   "source": [
    "#percentage of students passed math and reading\n",
    "overall_passing_percentage = overall_passing_math_reading_count / float(student_count) *100\n",
    "overall_passing_percentage"
   ]
  },
  {
   "cell_type": "code",
   "execution_count": 104,
   "id": "4b413d0c",
   "metadata": {},
   "outputs": [
    {
     "data": {
      "text/html": [
       "<div>\n",
       "<style scoped>\n",
       "    .dataframe tbody tr th:only-of-type {\n",
       "        vertical-align: middle;\n",
       "    }\n",
       "\n",
       "    .dataframe tbody tr th {\n",
       "        vertical-align: top;\n",
       "    }\n",
       "\n",
       "    .dataframe thead th {\n",
       "        text-align: right;\n",
       "    }\n",
       "</style>\n",
       "<table border=\"1\" class=\"dataframe\">\n",
       "  <thead>\n",
       "    <tr style=\"text-align: right;\">\n",
       "      <th></th>\n",
       "      <th>Total Schools</th>\n",
       "      <th>Total Students</th>\n",
       "      <th>Total Budget</th>\n",
       "      <th>Average Math Score</th>\n",
       "      <th>Average Reading Score</th>\n",
       "      <th>% Passing Math</th>\n",
       "      <th>% Passing Reading</th>\n",
       "      <th>% Overall Passing</th>\n",
       "    </tr>\n",
       "  </thead>\n",
       "  <tbody>\n",
       "    <tr>\n",
       "      <th>0</th>\n",
       "      <td>15</td>\n",
       "      <td>39170</td>\n",
       "      <td>24649428</td>\n",
       "      <td>78.985371</td>\n",
       "      <td>81.87784</td>\n",
       "      <td>74.980853</td>\n",
       "      <td>85.805463</td>\n",
       "      <td>65.172326</td>\n",
       "    </tr>\n",
       "  </tbody>\n",
       "</table>\n",
       "</div>"
      ],
      "text/plain": [
       "   Total Schools  Total Students  Total Budget  Average Math Score  \\\n",
       "0             15           39170      24649428           78.985371   \n",
       "\n",
       "   Average Reading Score  % Passing Math  % Passing Reading  % Overall Passing  \n",
       "0               81.87784       74.980853          85.805463          65.172326  "
      ]
     },
     "execution_count": 104,
     "metadata": {},
     "output_type": "execute_result"
    }
   ],
   "source": [
    "# Adding a list of values with keys to create a new DataFrame.\n",
    "district_summary_df = pd.DataFrame(\n",
    "          [{\"Total Schools\": school_count,\n",
    "          \"Total Students\": student_count,\n",
    "          \"Total Budget\": total_budget,\n",
    "          \"Average Math Score\": average_math_score,\n",
    "          \"Average Reading Score\": average_reading_score,\n",
    "          \"% Passing Math\": percentage_math,\n",
    "         \"% Passing Reading\": percentage_reading,\n",
    "        \"% Overall Passing\": overall_passing_percentage}])\n",
    "district_summary_df"
   ]
  },
  {
   "cell_type": "code",
   "execution_count": 105,
   "id": "5373206a",
   "metadata": {},
   "outputs": [],
   "source": [
    "# Define a function that calculates the percentage of students that passed both \n",
    "# math and reading and prints the passing percentage to the output when the\n",
    "# function is called.\n",
    "def passing_math_percent(pass_math_count, student_count):\n",
    "    return pass_math_count / float(student_count) * 100"
   ]
  },
  {
   "cell_type": "code",
   "execution_count": 108,
   "id": "e16bceb3",
   "metadata": {},
   "outputs": [
    {
     "data": {
      "text/plain": [
       "0    39,170\n",
       "Name: Total Students, dtype: object"
      ]
     },
     "execution_count": 108,
     "metadata": {},
     "output_type": "execute_result"
    }
   ],
   "source": [
    "# Format the \"Total Students\" to have the comma for a thousands separator.\n",
    "district_summary_df[\"Total Students\"] = district_summary_df[\"Total Students\"].map(\"{:,}\".format)\n",
    "\n",
    "district_summary_df[\"Total Students\"]"
   ]
  },
  {
   "cell_type": "code",
   "execution_count": 109,
   "id": "cbbabb2a",
   "metadata": {},
   "outputs": [
    {
     "data": {
      "text/plain": [
       "0    $24,649,428.00\n",
       "Name: Total Budget, dtype: object"
      ]
     },
     "execution_count": 109,
     "metadata": {},
     "output_type": "execute_result"
    }
   ],
   "source": [
    "# Format \"Total Budget\" to have the comma for a thousands separator, a decimal separator, and a \"$\".\n",
    "\n",
    "district_summary_df[\"Total Budget\"] = district_summary_df[\"Total Budget\"].map(\"${:,.2f}\".format)\n",
    "\n",
    "district_summary_df[\"Total Budget\"]"
   ]
  },
  {
   "cell_type": "code",
   "execution_count": 110,
   "id": "6b8bb732",
   "metadata": {},
   "outputs": [],
   "source": [
    "# Format the columns.\n",
    "district_summary_df[\"Average Math Score\"] = district_summary_df[\"Average Math Score\"].map(\"{:.1f}\".format)\n",
    "\n",
    "district_summary_df[\"Average Reading Score\"] = district_summary_df[\"Average Reading Score\"].map(\"{:.1f}\".format)\n",
    "\n",
    "district_summary_df[\"% Passing Math\"] = district_summary_df[\"% Passing Math\"].map(\"{:.0f}\".format)\n",
    "\n",
    "district_summary_df[\"% Passing Reading\"] = district_summary_df[\"% Passing Reading\"].map(\"{:.0f}\".format)\n",
    "\n",
    "district_summary_df[\"% Overall Passing\"] = district_summary_df[\"% Overall Passing\"].map(\"{:.0f}\".format)"
   ]
  },
  {
   "cell_type": "code",
   "execution_count": 111,
   "id": "619535a1",
   "metadata": {},
   "outputs": [
    {
     "data": {
      "text/html": [
       "<div>\n",
       "<style scoped>\n",
       "    .dataframe tbody tr th:only-of-type {\n",
       "        vertical-align: middle;\n",
       "    }\n",
       "\n",
       "    .dataframe tbody tr th {\n",
       "        vertical-align: top;\n",
       "    }\n",
       "\n",
       "    .dataframe thead th {\n",
       "        text-align: right;\n",
       "    }\n",
       "</style>\n",
       "<table border=\"1\" class=\"dataframe\">\n",
       "  <thead>\n",
       "    <tr style=\"text-align: right;\">\n",
       "      <th></th>\n",
       "      <th>Total Schools</th>\n",
       "      <th>Total Students</th>\n",
       "      <th>Total Budget</th>\n",
       "      <th>Average Math Score</th>\n",
       "      <th>Average Reading Score</th>\n",
       "      <th>% Passing Math</th>\n",
       "      <th>% Passing Reading</th>\n",
       "      <th>% Overall Passing</th>\n",
       "    </tr>\n",
       "  </thead>\n",
       "  <tbody>\n",
       "    <tr>\n",
       "      <th>0</th>\n",
       "      <td>15</td>\n",
       "      <td>39,170</td>\n",
       "      <td>$24,649,428.00</td>\n",
       "      <td>79.0</td>\n",
       "      <td>81.9</td>\n",
       "      <td>75</td>\n",
       "      <td>86</td>\n",
       "      <td>65</td>\n",
       "    </tr>\n",
       "  </tbody>\n",
       "</table>\n",
       "</div>"
      ],
      "text/plain": [
       "   Total Schools Total Students    Total Budget Average Math Score  \\\n",
       "0             15         39,170  $24,649,428.00               79.0   \n",
       "\n",
       "  Average Reading Score % Passing Math % Passing Reading % Overall Passing  \n",
       "0                  81.9             75                86                65  "
      ]
     },
     "execution_count": 111,
     "metadata": {},
     "output_type": "execute_result"
    }
   ],
   "source": [
    "district_summary_df"
   ]
  },
  {
   "cell_type": "code",
   "execution_count": 112,
   "id": "7971bfd7",
   "metadata": {},
   "outputs": [
    {
     "data": {
      "text/plain": [
       "school_name\n",
       "Huang High School        District\n",
       "Figueroa High School     District\n",
       "Shelton High School       Charter\n",
       "Hernandez High School    District\n",
       "Griffin High School       Charter\n",
       "Wilson High School        Charter\n",
       "Cabrera High School       Charter\n",
       "Bailey High School       District\n",
       "Holden High School        Charter\n",
       "Pena High School          Charter\n",
       "Wright High School        Charter\n",
       "Rodriguez High School    District\n",
       "Johnson High School      District\n",
       "Ford High School         District\n",
       "Thomas High School        Charter\n",
       "Name: type, dtype: object"
      ]
     },
     "execution_count": 112,
     "metadata": {},
     "output_type": "execute_result"
    }
   ],
   "source": [
    "# Determine the school type.\n",
    "per_school_types = school_data_df.set_index([\"school_name\"])[\"type\"]\n",
    "per_school_types"
   ]
  },
  {
   "cell_type": "code",
   "execution_count": 113,
   "id": "ebe0c92f",
   "metadata": {},
   "outputs": [
    {
     "data": {
      "text/html": [
       "<div>\n",
       "<style scoped>\n",
       "    .dataframe tbody tr th:only-of-type {\n",
       "        vertical-align: middle;\n",
       "    }\n",
       "\n",
       "    .dataframe tbody tr th {\n",
       "        vertical-align: top;\n",
       "    }\n",
       "\n",
       "    .dataframe thead th {\n",
       "        text-align: right;\n",
       "    }\n",
       "</style>\n",
       "<table border=\"1\" class=\"dataframe\">\n",
       "  <thead>\n",
       "    <tr style=\"text-align: right;\">\n",
       "      <th></th>\n",
       "      <th>type</th>\n",
       "    </tr>\n",
       "    <tr>\n",
       "      <th>school_name</th>\n",
       "      <th></th>\n",
       "    </tr>\n",
       "  </thead>\n",
       "  <tbody>\n",
       "    <tr>\n",
       "      <th>Huang High School</th>\n",
       "      <td>District</td>\n",
       "    </tr>\n",
       "    <tr>\n",
       "      <th>Figueroa High School</th>\n",
       "      <td>District</td>\n",
       "    </tr>\n",
       "    <tr>\n",
       "      <th>Shelton High School</th>\n",
       "      <td>Charter</td>\n",
       "    </tr>\n",
       "    <tr>\n",
       "      <th>Hernandez High School</th>\n",
       "      <td>District</td>\n",
       "    </tr>\n",
       "    <tr>\n",
       "      <th>Griffin High School</th>\n",
       "      <td>Charter</td>\n",
       "    </tr>\n",
       "    <tr>\n",
       "      <th>Wilson High School</th>\n",
       "      <td>Charter</td>\n",
       "    </tr>\n",
       "    <tr>\n",
       "      <th>Cabrera High School</th>\n",
       "      <td>Charter</td>\n",
       "    </tr>\n",
       "    <tr>\n",
       "      <th>Bailey High School</th>\n",
       "      <td>District</td>\n",
       "    </tr>\n",
       "    <tr>\n",
       "      <th>Holden High School</th>\n",
       "      <td>Charter</td>\n",
       "    </tr>\n",
       "    <tr>\n",
       "      <th>Pena High School</th>\n",
       "      <td>Charter</td>\n",
       "    </tr>\n",
       "    <tr>\n",
       "      <th>Wright High School</th>\n",
       "      <td>Charter</td>\n",
       "    </tr>\n",
       "    <tr>\n",
       "      <th>Rodriguez High School</th>\n",
       "      <td>District</td>\n",
       "    </tr>\n",
       "    <tr>\n",
       "      <th>Johnson High School</th>\n",
       "      <td>District</td>\n",
       "    </tr>\n",
       "    <tr>\n",
       "      <th>Ford High School</th>\n",
       "      <td>District</td>\n",
       "    </tr>\n",
       "    <tr>\n",
       "      <th>Thomas High School</th>\n",
       "      <td>Charter</td>\n",
       "    </tr>\n",
       "  </tbody>\n",
       "</table>\n",
       "</div>"
      ],
      "text/plain": [
       "                           type\n",
       "school_name                    \n",
       "Huang High School      District\n",
       "Figueroa High School   District\n",
       "Shelton High School     Charter\n",
       "Hernandez High School  District\n",
       "Griffin High School     Charter\n",
       "Wilson High School      Charter\n",
       "Cabrera High School     Charter\n",
       "Bailey High School     District\n",
       "Holden High School      Charter\n",
       "Pena High School        Charter\n",
       "Wright High School      Charter\n",
       "Rodriguez High School  District\n",
       "Johnson High School    District\n",
       "Ford High School       District\n",
       "Thomas High School      Charter"
      ]
     },
     "execution_count": 113,
     "metadata": {},
     "output_type": "execute_result"
    }
   ],
   "source": [
    "# Add the per_school_types into a DataFrame for testing.\n",
    "df = pd.DataFrame(per_school_types)\n",
    "df"
   ]
  },
  {
   "cell_type": "code",
   "execution_count": 116,
   "id": "8ab7fd9e",
   "metadata": {
    "scrolled": true
   },
   "outputs": [
    {
     "data": {
      "text/plain": [
       "school_name\n",
       "Huang High School        2917\n",
       "Figueroa High School     2949\n",
       "Shelton High School      1761\n",
       "Hernandez High School    4635\n",
       "Griffin High School      1468\n",
       "Wilson High School       2283\n",
       "Cabrera High School      1858\n",
       "Bailey High School       4976\n",
       "Holden High School        427\n",
       "Pena High School          962\n",
       "Wright High School       1800\n",
       "Rodriguez High School    3999\n",
       "Johnson High School      4761\n",
       "Ford High School         2739\n",
       "Thomas High School       1635\n",
       "Name: size, dtype: int64"
      ]
     },
     "execution_count": 116,
     "metadata": {},
     "output_type": "execute_result"
    }
   ],
   "source": [
    "# Calculate the total student count.\n",
    "per_school_counts = school_data_df.set_index([\"school_name\"])[\"size\"]\n",
    "per_school_counts"
   ]
  },
  {
   "cell_type": "code",
   "execution_count": 117,
   "id": "a597a6da",
   "metadata": {},
   "outputs": [
    {
     "data": {
      "text/plain": [
       "Bailey High School       4976\n",
       "Johnson High School      4761\n",
       "Hernandez High School    4635\n",
       "Rodriguez High School    3999\n",
       "Figueroa High School     2949\n",
       "Huang High School        2917\n",
       "Ford High School         2739\n",
       "Wilson High School       2283\n",
       "Cabrera High School      1858\n",
       "Wright High School       1800\n",
       "Shelton High School      1761\n",
       "Thomas High School       1635\n",
       "Griffin High School      1468\n",
       "Pena High School          962\n",
       "Holden High School        427\n",
       "Name: school_name, dtype: int64"
      ]
     },
     "execution_count": 117,
     "metadata": {},
     "output_type": "execute_result"
    }
   ],
   "source": [
    "# Calculate the total student count.\n",
    "per_school_counts = school_data_complete_df[\"school_name\"].value_counts()\n",
    "per_school_counts"
   ]
  },
  {
   "cell_type": "code",
   "execution_count": 118,
   "id": "c4bbb0f1",
   "metadata": {},
   "outputs": [
    {
     "data": {
      "text/plain": [
       "school_name\n",
       "Huang High School        1910635\n",
       "Figueroa High School     1884411\n",
       "Shelton High School      1056600\n",
       "Hernandez High School    3022020\n",
       "Griffin High School       917500\n",
       "Wilson High School       1319574\n",
       "Cabrera High School      1081356\n",
       "Bailey High School       3124928\n",
       "Holden High School        248087\n",
       "Pena High School          585858\n",
       "Wright High School       1049400\n",
       "Rodriguez High School    2547363\n",
       "Johnson High School      3094650\n",
       "Ford High School         1763916\n",
       "Thomas High School       1043130\n",
       "Name: budget, dtype: int64"
      ]
     },
     "execution_count": 118,
     "metadata": {},
     "output_type": "execute_result"
    }
   ],
   "source": [
    "# Calculate the total school budget.\n",
    "per_school_budget = school_data_df.set_index([\"school_name\"])[\"budget\"]\n",
    "per_school_budget"
   ]
  },
  {
   "cell_type": "code",
   "execution_count": 119,
   "id": "2eb4f349",
   "metadata": {},
   "outputs": [
    {
     "data": {
      "text/plain": [
       "Bailey High School       628.0\n",
       "Cabrera High School      582.0\n",
       "Figueroa High School     639.0\n",
       "Ford High School         644.0\n",
       "Griffin High School      625.0\n",
       "Hernandez High School    652.0\n",
       "Holden High School       581.0\n",
       "Huang High School        655.0\n",
       "Johnson High School      650.0\n",
       "Pena High School         609.0\n",
       "Rodriguez High School    637.0\n",
       "Shelton High School      600.0\n",
       "Thomas High School       638.0\n",
       "Wilson High School       578.0\n",
       "Wright High School       583.0\n",
       "dtype: float64"
      ]
     },
     "execution_count": 119,
     "metadata": {},
     "output_type": "execute_result"
    }
   ],
   "source": [
    "# Calculate the per capita spending.\n",
    "per_school_capita = per_school_budget / per_school_counts\n",
    "per_school_capita"
   ]
  },
  {
   "cell_type": "code",
   "execution_count": 123,
   "id": "432c0a86",
   "metadata": {},
   "outputs": [
    {
     "data": {
      "text/html": [
       "<div>\n",
       "<style scoped>\n",
       "    .dataframe tbody tr th:only-of-type {\n",
       "        vertical-align: middle;\n",
       "    }\n",
       "\n",
       "    .dataframe tbody tr th {\n",
       "        vertical-align: top;\n",
       "    }\n",
       "\n",
       "    .dataframe thead th {\n",
       "        text-align: right;\n",
       "    }\n",
       "</style>\n",
       "<table border=\"1\" class=\"dataframe\">\n",
       "  <thead>\n",
       "    <tr style=\"text-align: right;\">\n",
       "      <th></th>\n",
       "      <th>Student ID</th>\n",
       "      <th>reading_score</th>\n",
       "      <th>math_score</th>\n",
       "      <th>School ID</th>\n",
       "      <th>size</th>\n",
       "      <th>budget</th>\n",
       "    </tr>\n",
       "    <tr>\n",
       "      <th>school_name</th>\n",
       "      <th></th>\n",
       "      <th></th>\n",
       "      <th></th>\n",
       "      <th></th>\n",
       "      <th></th>\n",
       "      <th></th>\n",
       "    </tr>\n",
       "  </thead>\n",
       "  <tbody>\n",
       "    <tr>\n",
       "      <th>Bailey High School</th>\n",
       "      <td>20358.5</td>\n",
       "      <td>81.033963</td>\n",
       "      <td>77.048432</td>\n",
       "      <td>7.0</td>\n",
       "      <td>4976.0</td>\n",
       "      <td>3124928.0</td>\n",
       "    </tr>\n",
       "    <tr>\n",
       "      <th>Cabrera High School</th>\n",
       "      <td>16941.5</td>\n",
       "      <td>83.975780</td>\n",
       "      <td>83.061895</td>\n",
       "      <td>6.0</td>\n",
       "      <td>1858.0</td>\n",
       "      <td>1081356.0</td>\n",
       "    </tr>\n",
       "    <tr>\n",
       "      <th>Figueroa High School</th>\n",
       "      <td>4391.0</td>\n",
       "      <td>81.158020</td>\n",
       "      <td>76.711767</td>\n",
       "      <td>1.0</td>\n",
       "      <td>2949.0</td>\n",
       "      <td>1884411.0</td>\n",
       "    </tr>\n",
       "    <tr>\n",
       "      <th>Ford High School</th>\n",
       "      <td>36165.0</td>\n",
       "      <td>80.746258</td>\n",
       "      <td>77.102592</td>\n",
       "      <td>13.0</td>\n",
       "      <td>2739.0</td>\n",
       "      <td>1763916.0</td>\n",
       "    </tr>\n",
       "    <tr>\n",
       "      <th>Griffin High School</th>\n",
       "      <td>12995.5</td>\n",
       "      <td>83.816757</td>\n",
       "      <td>83.351499</td>\n",
       "      <td>4.0</td>\n",
       "      <td>1468.0</td>\n",
       "      <td>917500.0</td>\n",
       "    </tr>\n",
       "    <tr>\n",
       "      <th>Hernandez High School</th>\n",
       "      <td>9944.0</td>\n",
       "      <td>80.934412</td>\n",
       "      <td>77.289752</td>\n",
       "      <td>3.0</td>\n",
       "      <td>4635.0</td>\n",
       "      <td>3022020.0</td>\n",
       "    </tr>\n",
       "    <tr>\n",
       "      <th>Holden High School</th>\n",
       "      <td>23060.0</td>\n",
       "      <td>83.814988</td>\n",
       "      <td>83.803279</td>\n",
       "      <td>8.0</td>\n",
       "      <td>427.0</td>\n",
       "      <td>248087.0</td>\n",
       "    </tr>\n",
       "    <tr>\n",
       "      <th>Huang High School</th>\n",
       "      <td>1458.0</td>\n",
       "      <td>81.182722</td>\n",
       "      <td>76.629414</td>\n",
       "      <td>0.0</td>\n",
       "      <td>2917.0</td>\n",
       "      <td>1910635.0</td>\n",
       "    </tr>\n",
       "    <tr>\n",
       "      <th>Johnson High School</th>\n",
       "      <td>32415.0</td>\n",
       "      <td>80.966394</td>\n",
       "      <td>77.072464</td>\n",
       "      <td>12.0</td>\n",
       "      <td>4761.0</td>\n",
       "      <td>3094650.0</td>\n",
       "    </tr>\n",
       "    <tr>\n",
       "      <th>Pena High School</th>\n",
       "      <td>23754.5</td>\n",
       "      <td>84.044699</td>\n",
       "      <td>83.839917</td>\n",
       "      <td>9.0</td>\n",
       "      <td>962.0</td>\n",
       "      <td>585858.0</td>\n",
       "    </tr>\n",
       "    <tr>\n",
       "      <th>Rodriguez High School</th>\n",
       "      <td>28035.0</td>\n",
       "      <td>80.744686</td>\n",
       "      <td>76.842711</td>\n",
       "      <td>11.0</td>\n",
       "      <td>3999.0</td>\n",
       "      <td>2547363.0</td>\n",
       "    </tr>\n",
       "    <tr>\n",
       "      <th>Shelton High School</th>\n",
       "      <td>6746.0</td>\n",
       "      <td>83.725724</td>\n",
       "      <td>83.359455</td>\n",
       "      <td>2.0</td>\n",
       "      <td>1761.0</td>\n",
       "      <td>1056600.0</td>\n",
       "    </tr>\n",
       "    <tr>\n",
       "      <th>Thomas High School</th>\n",
       "      <td>38352.0</td>\n",
       "      <td>83.848930</td>\n",
       "      <td>83.418349</td>\n",
       "      <td>14.0</td>\n",
       "      <td>1635.0</td>\n",
       "      <td>1043130.0</td>\n",
       "    </tr>\n",
       "    <tr>\n",
       "      <th>Wilson High School</th>\n",
       "      <td>14871.0</td>\n",
       "      <td>83.989488</td>\n",
       "      <td>83.274201</td>\n",
       "      <td>5.0</td>\n",
       "      <td>2283.0</td>\n",
       "      <td>1319574.0</td>\n",
       "    </tr>\n",
       "    <tr>\n",
       "      <th>Wright High School</th>\n",
       "      <td>25135.5</td>\n",
       "      <td>83.955000</td>\n",
       "      <td>83.682222</td>\n",
       "      <td>10.0</td>\n",
       "      <td>1800.0</td>\n",
       "      <td>1049400.0</td>\n",
       "    </tr>\n",
       "  </tbody>\n",
       "</table>\n",
       "</div>"
      ],
      "text/plain": [
       "                       Student ID  reading_score  math_score  School ID  \\\n",
       "school_name                                                               \n",
       "Bailey High School        20358.5      81.033963   77.048432        7.0   \n",
       "Cabrera High School       16941.5      83.975780   83.061895        6.0   \n",
       "Figueroa High School       4391.0      81.158020   76.711767        1.0   \n",
       "Ford High School          36165.0      80.746258   77.102592       13.0   \n",
       "Griffin High School       12995.5      83.816757   83.351499        4.0   \n",
       "Hernandez High School      9944.0      80.934412   77.289752        3.0   \n",
       "Holden High School        23060.0      83.814988   83.803279        8.0   \n",
       "Huang High School          1458.0      81.182722   76.629414        0.0   \n",
       "Johnson High School       32415.0      80.966394   77.072464       12.0   \n",
       "Pena High School          23754.5      84.044699   83.839917        9.0   \n",
       "Rodriguez High School     28035.0      80.744686   76.842711       11.0   \n",
       "Shelton High School        6746.0      83.725724   83.359455        2.0   \n",
       "Thomas High School        38352.0      83.848930   83.418349       14.0   \n",
       "Wilson High School        14871.0      83.989488   83.274201        5.0   \n",
       "Wright High School        25135.5      83.955000   83.682222       10.0   \n",
       "\n",
       "                         size     budget  \n",
       "school_name                               \n",
       "Bailey High School     4976.0  3124928.0  \n",
       "Cabrera High School    1858.0  1081356.0  \n",
       "Figueroa High School   2949.0  1884411.0  \n",
       "Ford High School       2739.0  1763916.0  \n",
       "Griffin High School    1468.0   917500.0  \n",
       "Hernandez High School  4635.0  3022020.0  \n",
       "Holden High School      427.0   248087.0  \n",
       "Huang High School      2917.0  1910635.0  \n",
       "Johnson High School    4761.0  3094650.0  \n",
       "Pena High School        962.0   585858.0  \n",
       "Rodriguez High School  3999.0  2547363.0  \n",
       "Shelton High School    1761.0  1056600.0  \n",
       "Thomas High School     1635.0  1043130.0  \n",
       "Wilson High School     2283.0  1319574.0  \n",
       "Wright High School     1800.0  1049400.0  "
      ]
     },
     "execution_count": 123,
     "metadata": {},
     "output_type": "execute_result"
    }
   ],
   "source": [
    "# Calculate the average math scores.\n",
    "per_school_averages = school_data_complete_df.groupby([\"school_name\"]).mean()\n",
    "per_school_averages\n"
   ]
  },
  {
   "cell_type": "code",
   "execution_count": 126,
   "id": "ac96827d",
   "metadata": {},
   "outputs": [],
   "source": [
    "# Calculate the average test scores.\n",
    "per_school_math = school_data_complete_df.groupby([\"school_name\"]).mean()[\"math_score\"]\n",
    "\n",
    "per_school_reading = school_data_complete_df.groupby([\"school_name\"]).mean()[\"reading_score\"]"
   ]
  },
  {
   "cell_type": "code",
   "execution_count": 128,
   "id": "dbb33560",
   "metadata": {},
   "outputs": [],
   "source": [
    "# Calculate the passing scores by creating a filtered DataFrame.\n",
    "per_school_passing_math = school_data_complete_df[(school_data_complete_df[\"math_score\"] >= 70)]\n",
    "\n",
    "per_school_passing_reading = school_data_complete_df[(school_data_complete_df[\"reading_score\"] >= 70)]"
   ]
  },
  {
   "cell_type": "code",
   "execution_count": 129,
   "id": "94b3289b",
   "metadata": {},
   "outputs": [],
   "source": [
    "# Calculate the number of students passing math and passing reading by school.\n",
    "per_school_passing_math = per_school_passing_math.groupby([\"school_name\"]).count()[\"student_name\"]\n",
    "\n",
    "per_school_passing_reading = per_school_passing_reading.groupby([\"school_name\"]).count()[\"student_name\"]"
   ]
  },
  {
   "cell_type": "code",
   "execution_count": 130,
   "id": "4f327503",
   "metadata": {},
   "outputs": [],
   "source": [
    "# Calculate the percentage of passing math and reading scores per school.\n",
    "per_school_passing_math = per_school_passing_math / per_school_counts * 100\n",
    "\n",
    "per_school_passing_reading = per_school_passing_reading / per_school_counts * 100"
   ]
  },
  {
   "cell_type": "code",
   "execution_count": 1,
   "id": "a31a4a62",
   "metadata": {},
   "outputs": [
    {
     "ename": "NameError",
     "evalue": "name 'school_data_complete_df' is not defined",
     "output_type": "error",
     "traceback": [
      "\u001b[1;31m---------------------------------------------------------------------------\u001b[0m",
      "\u001b[1;31mNameError\u001b[0m                                 Traceback (most recent call last)",
      "\u001b[1;32m<ipython-input-1-c8142bb762f0>\u001b[0m in \u001b[0;36m<module>\u001b[1;34m\u001b[0m\n\u001b[1;32m----> 1\u001b[1;33m \u001b[0mper_passing_math_reading\u001b[0m \u001b[1;33m=\u001b[0m \u001b[0mschool_data_complete_df\u001b[0m\u001b[1;33m[\u001b[0m\u001b[1;33m(\u001b[0m\u001b[0mschool_data_complete_df\u001b[0m\u001b[1;33m[\u001b[0m\u001b[1;34m\"math_score\"\u001b[0m\u001b[1;33m]\u001b[0m \u001b[1;33m>=\u001b[0m \u001b[1;36m70\u001b[0m\u001b[1;33m)\u001b[0m \u001b[1;33m&\u001b[0m \u001b[1;33m(\u001b[0m\u001b[0mschool_data_complete_df\u001b[0m\u001b[1;33m[\u001b[0m\u001b[1;34m\"reading_score\"\u001b[0m\u001b[1;33m]\u001b[0m \u001b[1;33m>=\u001b[0m \u001b[1;36m70\u001b[0m\u001b[1;33m)\u001b[0m\u001b[1;33m]\u001b[0m\u001b[1;33m\u001b[0m\u001b[1;33m\u001b[0m\u001b[0m\n\u001b[0m\u001b[0;32m      2\u001b[0m \u001b[0mper_passing_math_reading\u001b[0m \u001b[1;33m=\u001b[0m \u001b[0mper_passing_math_reading\u001b[0m\u001b[1;33m.\u001b[0m\u001b[0mgroupby\u001b[0m\u001b[1;33m(\u001b[0m\u001b[1;33m[\u001b[0m\u001b[1;34m\"school_name\"\u001b[0m\u001b[1;33m]\u001b[0m\u001b[1;33m)\u001b[0m\u001b[1;33m.\u001b[0m\u001b[0mcount\u001b[0m\u001b[1;33m(\u001b[0m\u001b[1;33m)\u001b[0m\u001b[1;33m[\u001b[0m\u001b[1;34m\"student_name\"\u001b[0m\u001b[1;33m]\u001b[0m\u001b[1;33m\u001b[0m\u001b[1;33m\u001b[0m\u001b[0m\n\u001b[0;32m      3\u001b[0m \u001b[0mper_passing_math_reading\u001b[0m\u001b[1;33m\u001b[0m\u001b[1;33m\u001b[0m\u001b[0m\n",
      "\u001b[1;31mNameError\u001b[0m: name 'school_data_complete_df' is not defined"
     ]
    }
   ],
   "source": [
    "per_passing_math_reading = school_data_complete_df[(school_data_complete_df[\"math_score\"] >= 70) & (school_data_complete_df[\"reading_score\"] >= 70)]\n",
    "per_passing_math_reading = per_passing_math_reading.groupby([\"school_name\"]).count()[\"student_name\"]\n",
    "per_passing_math_reading"
   ]
  },
  {
   "cell_type": "code",
   "execution_count": null,
   "id": "c6651373",
   "metadata": {},
   "outputs": [],
   "source": []
  }
 ],
 "metadata": {
  "kernelspec": {
   "display_name": "PythonData",
   "language": "python",
   "name": "pythondata"
  },
  "language_info": {
   "codemirror_mode": {
    "name": "ipython",
    "version": 3
   },
   "file_extension": ".py",
   "mimetype": "text/x-python",
   "name": "python",
   "nbconvert_exporter": "python",
   "pygments_lexer": "ipython3",
   "version": "3.7.10"
  }
 },
 "nbformat": 4,
 "nbformat_minor": 5
}

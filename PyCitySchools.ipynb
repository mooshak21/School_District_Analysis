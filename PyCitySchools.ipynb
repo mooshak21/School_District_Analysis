{
 "cells": [
  {
   "cell_type": "code",
   "execution_count": 20,
   "id": "d74ceaab",
   "metadata": {},
   "outputs": [],
   "source": [
    "import pandas as pd"
   ]
  },
  {
   "cell_type": "code",
   "execution_count": 21,
   "id": "cf85d563",
   "metadata": {},
   "outputs": [],
   "source": [
    "school_data_to_load = \"Resources/schools_complete.csv\"\n",
    "student_data_to_load = \"Resources/students_complete.csv\""
   ]
  },
  {
   "cell_type": "code",
   "execution_count": 22,
   "id": "68b77d1d",
   "metadata": {},
   "outputs": [],
   "source": [
    "#school data\n",
    "school_data_df = pd.read_csv(school_data_to_load)\n",
    "#student data\n",
    "student_data_df = pd.read_csv(student_data_to_load)"
   ]
  },
  {
   "cell_type": "code",
   "execution_count": 23,
   "id": "5a86bca8",
   "metadata": {},
   "outputs": [
    {
     "data": {
      "text/html": [
       "<div>\n",
       "<style scoped>\n",
       "    .dataframe tbody tr th:only-of-type {\n",
       "        vertical-align: middle;\n",
       "    }\n",
       "\n",
       "    .dataframe tbody tr th {\n",
       "        vertical-align: top;\n",
       "    }\n",
       "\n",
       "    .dataframe thead th {\n",
       "        text-align: right;\n",
       "    }\n",
       "</style>\n",
       "<table border=\"1\" class=\"dataframe\">\n",
       "  <thead>\n",
       "    <tr style=\"text-align: right;\">\n",
       "      <th></th>\n",
       "      <th>School ID</th>\n",
       "      <th>school_name</th>\n",
       "      <th>type</th>\n",
       "      <th>size</th>\n",
       "      <th>budget</th>\n",
       "    </tr>\n",
       "  </thead>\n",
       "  <tbody>\n",
       "    <tr>\n",
       "      <th>0</th>\n",
       "      <td>0</td>\n",
       "      <td>Huang High School</td>\n",
       "      <td>District</td>\n",
       "      <td>2917</td>\n",
       "      <td>1910635</td>\n",
       "    </tr>\n",
       "    <tr>\n",
       "      <th>1</th>\n",
       "      <td>1</td>\n",
       "      <td>Figueroa High School</td>\n",
       "      <td>District</td>\n",
       "      <td>2949</td>\n",
       "      <td>1884411</td>\n",
       "    </tr>\n",
       "    <tr>\n",
       "      <th>2</th>\n",
       "      <td>2</td>\n",
       "      <td>Shelton High School</td>\n",
       "      <td>Charter</td>\n",
       "      <td>1761</td>\n",
       "      <td>1056600</td>\n",
       "    </tr>\n",
       "    <tr>\n",
       "      <th>3</th>\n",
       "      <td>3</td>\n",
       "      <td>Hernandez High School</td>\n",
       "      <td>District</td>\n",
       "      <td>4635</td>\n",
       "      <td>3022020</td>\n",
       "    </tr>\n",
       "    <tr>\n",
       "      <th>4</th>\n",
       "      <td>4</td>\n",
       "      <td>Griffin High School</td>\n",
       "      <td>Charter</td>\n",
       "      <td>1468</td>\n",
       "      <td>917500</td>\n",
       "    </tr>\n",
       "  </tbody>\n",
       "</table>\n",
       "</div>"
      ],
      "text/plain": [
       "   School ID            school_name      type  size   budget\n",
       "0          0      Huang High School  District  2917  1910635\n",
       "1          1   Figueroa High School  District  2949  1884411\n",
       "2          2    Shelton High School   Charter  1761  1056600\n",
       "3          3  Hernandez High School  District  4635  3022020\n",
       "4          4    Griffin High School   Charter  1468   917500"
      ]
     },
     "execution_count": 23,
     "metadata": {},
     "output_type": "execute_result"
    }
   ],
   "source": [
    "school_df.head()"
   ]
  },
  {
   "cell_type": "code",
   "execution_count": 24,
   "id": "fc59935f",
   "metadata": {},
   "outputs": [
    {
     "data": {
      "text/html": [
       "<div>\n",
       "<style scoped>\n",
       "    .dataframe tbody tr th:only-of-type {\n",
       "        vertical-align: middle;\n",
       "    }\n",
       "\n",
       "    .dataframe tbody tr th {\n",
       "        vertical-align: top;\n",
       "    }\n",
       "\n",
       "    .dataframe thead th {\n",
       "        text-align: right;\n",
       "    }\n",
       "</style>\n",
       "<table border=\"1\" class=\"dataframe\">\n",
       "  <thead>\n",
       "    <tr style=\"text-align: right;\">\n",
       "      <th></th>\n",
       "      <th>Student ID</th>\n",
       "      <th>student_name</th>\n",
       "      <th>gender</th>\n",
       "      <th>grade</th>\n",
       "      <th>school_name</th>\n",
       "      <th>reading_score</th>\n",
       "      <th>math_score</th>\n",
       "    </tr>\n",
       "  </thead>\n",
       "  <tbody>\n",
       "    <tr>\n",
       "      <th>0</th>\n",
       "      <td>0</td>\n",
       "      <td>Paul Bradley</td>\n",
       "      <td>M</td>\n",
       "      <td>9th</td>\n",
       "      <td>Huang High School</td>\n",
       "      <td>66</td>\n",
       "      <td>79</td>\n",
       "    </tr>\n",
       "    <tr>\n",
       "      <th>1</th>\n",
       "      <td>1</td>\n",
       "      <td>Victor Smith</td>\n",
       "      <td>M</td>\n",
       "      <td>12th</td>\n",
       "      <td>Huang High School</td>\n",
       "      <td>94</td>\n",
       "      <td>61</td>\n",
       "    </tr>\n",
       "    <tr>\n",
       "      <th>2</th>\n",
       "      <td>2</td>\n",
       "      <td>Kevin Rodriguez</td>\n",
       "      <td>M</td>\n",
       "      <td>12th</td>\n",
       "      <td>Huang High School</td>\n",
       "      <td>90</td>\n",
       "      <td>60</td>\n",
       "    </tr>\n",
       "    <tr>\n",
       "      <th>3</th>\n",
       "      <td>3</td>\n",
       "      <td>Dr. Richard Scott</td>\n",
       "      <td>M</td>\n",
       "      <td>12th</td>\n",
       "      <td>Huang High School</td>\n",
       "      <td>67</td>\n",
       "      <td>58</td>\n",
       "    </tr>\n",
       "    <tr>\n",
       "      <th>4</th>\n",
       "      <td>4</td>\n",
       "      <td>Bonnie Ray</td>\n",
       "      <td>F</td>\n",
       "      <td>9th</td>\n",
       "      <td>Huang High School</td>\n",
       "      <td>97</td>\n",
       "      <td>84</td>\n",
       "    </tr>\n",
       "  </tbody>\n",
       "</table>\n",
       "</div>"
      ],
      "text/plain": [
       "   Student ID       student_name gender grade        school_name  \\\n",
       "0           0       Paul Bradley      M   9th  Huang High School   \n",
       "1           1       Victor Smith      M  12th  Huang High School   \n",
       "2           2    Kevin Rodriguez      M  12th  Huang High School   \n",
       "3           3  Dr. Richard Scott      M  12th  Huang High School   \n",
       "4           4         Bonnie Ray      F   9th  Huang High School   \n",
       "\n",
       "   reading_score  math_score  \n",
       "0             66          79  \n",
       "1             94          61  \n",
       "2             90          60  \n",
       "3             67          58  \n",
       "4             97          84  "
      ]
     },
     "execution_count": 24,
     "metadata": {},
     "output_type": "execute_result"
    }
   ],
   "source": [
    "student_df.head()"
   ]
  },
  {
   "cell_type": "code",
   "execution_count": 25,
   "id": "f2084c43",
   "metadata": {},
   "outputs": [
    {
     "data": {
      "text/plain": [
       "School ID      15\n",
       "school_name    15\n",
       "type           15\n",
       "size           15\n",
       "budget         15\n",
       "dtype: int64"
      ]
     },
     "execution_count": 25,
     "metadata": {},
     "output_type": "execute_result"
    }
   ],
   "source": [
    "# Determine if there are any missing values in the school data.\n",
    "school_data_df.count()"
   ]
  },
  {
   "cell_type": "code",
   "execution_count": 26,
   "id": "4ac346c4",
   "metadata": {},
   "outputs": [
    {
     "data": {
      "text/plain": [
       "Student ID       39170\n",
       "student_name     39170\n",
       "gender           39170\n",
       "grade            39170\n",
       "school_name      39170\n",
       "reading_score    39170\n",
       "math_score       39170\n",
       "dtype: int64"
      ]
     },
     "execution_count": 26,
     "metadata": {},
     "output_type": "execute_result"
    }
   ],
   "source": [
    "# Determine if there are any missing values in the student data.\n",
    "student_data_df.count()"
   ]
  },
  {
   "cell_type": "code",
   "execution_count": 27,
   "id": "6555c3f9",
   "metadata": {},
   "outputs": [
    {
     "data": {
      "text/plain": [
       "School ID      0\n",
       "school_name    0\n",
       "type           0\n",
       "size           0\n",
       "budget         0\n",
       "dtype: int64"
      ]
     },
     "execution_count": 27,
     "metadata": {},
     "output_type": "execute_result"
    }
   ],
   "source": [
    "# Determine if there are any missing values in the school data.\n",
    "school_data_df.isnull().sum()"
   ]
  },
  {
   "cell_type": "code",
   "execution_count": 28,
   "id": "279a5643",
   "metadata": {},
   "outputs": [
    {
     "data": {
      "text/plain": [
       "Student ID       0\n",
       "student_name     0\n",
       "gender           0\n",
       "grade            0\n",
       "school_name      0\n",
       "reading_score    0\n",
       "math_score       0\n",
       "dtype: int64"
      ]
     },
     "execution_count": 28,
     "metadata": {},
     "output_type": "execute_result"
    }
   ],
   "source": [
    "# Determine if there are any missing values in the student data.\n",
    "student_data_df.isnull().sum()"
   ]
  },
  {
   "cell_type": "code",
   "execution_count": 29,
   "id": "06f7cb2d",
   "metadata": {},
   "outputs": [
    {
     "data": {
      "text/plain": [
       "School ID       int64\n",
       "school_name    object\n",
       "type           object\n",
       "size            int64\n",
       "budget          int64\n",
       "dtype: object"
      ]
     },
     "execution_count": 29,
     "metadata": {},
     "output_type": "execute_result"
    }
   ],
   "source": [
    "# Determine data types for the school DataFrame.\n",
    "school_data_df.dtypes"
   ]
  },
  {
   "cell_type": "code",
   "execution_count": 30,
   "id": "b661e213",
   "metadata": {},
   "outputs": [
    {
     "data": {
      "text/plain": [
       "Student ID        int64\n",
       "student_name     object\n",
       "gender           object\n",
       "grade            object\n",
       "school_name      object\n",
       "reading_score     int64\n",
       "math_score        int64\n",
       "dtype: object"
      ]
     },
     "execution_count": 30,
     "metadata": {},
     "output_type": "execute_result"
    }
   ],
   "source": [
    "# Determine data types for the student DataFrame.\n",
    "student_data_df.dtypes"
   ]
  },
  {
   "cell_type": "code",
   "execution_count": 31,
   "id": "af56215c",
   "metadata": {},
   "outputs": [],
   "source": [
    "student_names = student_data_df[\"student_name\"].tolist()"
   ]
  },
  {
   "cell_type": "code",
   "execution_count": 32,
   "id": "da48ae56",
   "metadata": {},
   "outputs": [
    {
     "data": {
      "text/plain": [
       "1531"
      ]
     },
     "execution_count": 32,
     "metadata": {},
     "output_type": "execute_result"
    }
   ],
   "source": [
    "# Create a new list and use it for the for loop to iterate through the list.\n",
    "students_to_fix = []\n",
    "\n",
    "# Use an if statement to check the length of the name.\n",
    "# If the name is greater than or equal to \"3\", add the name to the list.\n",
    "\n",
    "for name in student_names:\n",
    "    if len(name.split()) >= 3:\n",
    "        students_to_fix.append(name)\n",
    "\n",
    "# Get the length of the students whose names are greater than or equal to \"3\".\n",
    "len(students_to_fix)"
   ]
  },
  {
   "cell_type": "code",
   "execution_count": 33,
   "id": "449d1a4c",
   "metadata": {},
   "outputs": [
    {
     "name": "stdout",
     "output_type": "stream",
     "text": [
      "['Dr.', 'Dr.', 'Mr.', 'Dr.', 'Miss', 'Luke', 'Dr.', 'Mrs.', 'Mrs.', 'Mr.', 'Dr.', 'Mr.', 'Mr.', 'Mary', 'Mrs.', 'Mrs.', 'Mr.', 'Tara', 'Dr.', 'Mr.', 'Mrs.', 'Mr.', 'Mr.', 'John', 'Mr.', 'Mrs.', 'Mr.', 'Dr.', 'Mr.', 'Mr.', 'Dale', 'Dr.', 'Dr.', 'Dr.', 'Ms.', 'Dr.', 'Dr.', 'Mr.', 'Mrs.', 'Amy', 'Mr.', 'Dr.', 'Mr.', 'Mr.', 'Mrs.', 'Mrs.', 'Mr.', 'Lisa', 'Mr.', 'Dr.', 'Mr.', 'Mr.', 'Mr.', 'Dr.', 'Mr.', 'Mark', 'Mrs.', 'Dr.', 'Dr.', 'Miss', 'Mr.', 'Miss', 'Mr.', 'Mrs.', 'Mr.', 'Mrs.', 'Mr.', 'Mr.', 'Mr.', 'Dr.', 'Dr.', 'Miss', 'Mr.', 'Mrs.', 'Mr.', 'Tara', 'Dr.', 'Mr.', 'Cody', 'Mr.', 'Dr.', 'Mr.', 'Ms.', 'Dr.', 'Mr.', 'Mrs.', 'Sara', 'Mr.', 'Mrs.', 'Dr.', 'Mr.', 'Dr.', 'Mr.', 'Mrs.', 'Mr.', 'Mr.', 'Mr.', 'Mr.', 'Mr.', 'Dr.', 'Mrs.', 'Mr.', 'Mrs.', 'Dr.', 'Ryan', 'Mrs.', 'Mr.', 'Ms.', 'Mr.', 'Dr.', 'John', 'Mr.', 'Dr.', 'Dr.', 'Mrs.', 'Dr.', 'Mrs.', 'Mr.', 'Mr.', 'Mrs.', 'Dr.', 'Dr.', 'Miss', 'Miss', 'Mr.', 'Mr.', 'Mr.', 'Dr.', 'Dr.', 'Mrs.', 'Mr.', 'Ms.', 'Mr.', 'Miss', 'Tony', 'Dr.', 'Mr.', 'Mr.', 'Mrs.', 'Mr.', 'Mrs.', 'Miss', 'Mrs.', 'Jodi', 'Mr.', 'Mr.', 'Mrs.', 'Mr.', 'Mr.', 'Mrs.', 'Mrs.', 'Mrs.', 'Mr.', 'Mr.', 'Mr.', 'Mrs.', 'Dr.', 'Mr.', 'Mr.', 'Mrs.', 'Mr.', 'Mrs.', 'Mr.', 'Dr.', 'Mr.', 'Mr.', 'Ruth', 'Dr.', 'Mr.', 'Ms.', 'Dr.', 'Mr.', 'Mrs.', 'Mr.', 'Dr.', 'Dr.', 'John', 'Dr.', 'Mr.', 'Mrs.', 'Mrs.', 'Mrs.', 'Dr.', 'Mrs.', 'John', 'Amy', 'Adam', 'Dr.', 'Eric', 'Mrs.', 'Mr.', 'Mrs.', 'Dr.', 'Dr.', 'Kyle', 'Mr.', 'Ms.', 'Lynn', 'Dr.', 'Mr.', 'Jon', 'Mrs.', 'Mrs.', 'Mrs.', 'Dr.', 'Mrs.', 'Dr.', 'Dr.', 'Dr.', 'Mrs.', 'Mrs.', 'Judy', 'Mr.', 'Dr.', 'Mr.', 'Mrs.', 'Dr.', 'Mr.', 'Mr.', 'Mr.', 'Sara', 'Dr.', 'Dr.', 'Mrs.', 'Tara', 'Dr.', 'Mrs.', 'Dr.', 'Miss', 'Mrs.', 'Mr.', 'Dr.', 'Miss', 'Tina', 'Dr.', 'Eric', 'Ms.', 'Ms.', 'Mr.', 'Mrs.', 'Dr.', 'Dr.', 'Mr.', 'Mr.', 'Dr.', 'Mr.', 'Mr.', 'Dr.', 'Miss', 'Dr.', 'Paul', 'Mrs.', 'Mr.', 'Mrs.', 'Mr.', 'Mr.', 'Mr.', 'Dr.', 'Mrs.', 'Dr.', 'Dr.', 'Mrs.', 'Mrs.', 'Dr.', 'Dr.', 'Dr.', 'Mr.', 'Ms.', 'Dr.', 'Mr.', 'Mrs.', 'Dr.', 'Mrs.', 'Dr.', 'Mrs.', 'Mr.', 'Dr.', 'Mrs.', 'Mrs.', 'Mrs.', 'Dr.', 'Dr.', 'Mr.', 'Mr.', 'Mr.', 'Dr.', 'Marc', 'Mr.', 'Dr.', 'Dr.', 'Dr.', 'Mrs.', 'Dr.', 'Mrs.', 'Mrs.', 'Mr.', 'Mrs.', 'Dr.', 'Dr.', 'Dr.', 'Dr.', 'Mr.', 'Dr.', 'Mr.', 'Mrs.', 'Dr.', 'Dr.', 'Dr.', 'Amy', 'Dr.', 'Mr.', 'Mrs.', 'Mr.', 'Mrs.', 'Dr.', 'Dr.', 'Mr.', 'Mrs.', 'Dr.', 'Jill', 'Mary', 'Carl', 'Mr.', 'Dr.', 'Jose', 'Mrs.', 'Mary', 'Ms.', 'Jose', 'Lisa', 'Mrs.', 'Mr.', 'Miss', 'Mr.', 'Eric', 'Mr.', 'Mrs.', 'Mrs.', 'Miss', 'Emma', 'Mrs.', 'Dr.', 'Mrs.', 'Mr.', 'Dr.', 'Mr.', 'Mr.', 'Dr.', 'Dr.', 'Mrs.', 'Dr.', 'Dr.', 'Mr.', 'Mr.', 'Ms.', 'Mr.', 'Gary', 'Mr.', 'Lori', 'Mrs.', 'Mr.', 'Mr.', 'Mrs.', 'Mrs.', 'Noah', 'Dawn', 'Dr.', 'Mr.', 'Mr.', 'Mrs.', 'Mrs.', 'Mrs.', 'Dr.', 'Chad', 'Mr.', 'Paul', 'Mrs.', 'Dr.', 'Mrs.', 'Mrs.', 'Mrs.', 'Dr.', 'Dr.', 'Mrs.', 'Mrs.', 'Dr.', 'Miss', 'Mrs.', 'Eric', 'Dr.', 'Mrs.', 'Dr.', 'Mr.', 'Dr.', 'Adam', 'Mr.', 'Dr.', 'Dr.', 'Mr.', 'Mr.', 'Mr.', 'Mr.', 'Anne', 'Mr.', 'Mrs.', 'Troy', 'Mr.', 'Mrs.', 'Dr.', 'Mr.', 'Mr.', 'Mr.', 'Mr.', 'Miss', 'Mr.', 'Anna', 'John', 'Mr.', 'Mr.', 'Mrs.', 'Eric', 'Mr.', 'Dr.', 'Dr.', 'Mr.', 'Mr.', 'Ryan', 'Mrs.', 'Dr.', 'Emma', 'Mr.', 'Mr.', 'Mrs.', 'Miss', 'Mr.', 'Mr.', 'Mrs.', 'Mrs.', 'Mr.', 'Mr.', 'Mr.', 'Mrs.', 'Mr.', 'Dr.', 'Lisa', 'Mr.', 'Dr.', 'Mrs.', 'John', 'Mrs.', 'Ms.', 'Mrs.', 'Mrs.', 'Dr.', 'Mr.', 'Mrs.', 'Mr.', 'Amy', 'Dr.', 'Mr.', 'Dr.', 'Mrs.', 'Dr.', 'Dr.', 'Lori', 'Mr.', 'Dr.', 'Mrs.', 'Amy', 'Dr.', 'Mrs.', 'Dr.', 'Anne', 'Dr.', 'Mr.', 'Mr.', 'Mr.', 'Mr.', 'Mr.', 'Mrs.', 'Mike', 'Mrs.', 'Todd', 'Mrs.', 'Mr.', 'Mr.', 'Mrs.', 'Dr.', 'Mr.', 'Mrs.', 'Dr.', 'Dr.', 'Mrs.', 'Mrs.', 'Mr.', 'Dr.', 'Mrs.', 'Mrs.', 'Dr.', 'Dr.', 'Miss', 'Mr.', 'Mrs.', 'Dr.', 'Dr.', 'Mrs.', 'Mr.', 'Mrs.', 'Mr.', 'Mr.', 'Dr.', 'Mr.', 'Dr.', 'Mrs.', 'Dr.', 'Ms.', 'Mr.', 'Miss', 'Dr.', 'Miss', 'Dr.', 'Leah', 'Miss', 'Mr.', 'Mr.', 'Dr.', 'Mr.', 'Dr.', 'Dr.', 'Dr.', 'Mr.', 'Dr.', 'Dr.', 'Dr.', 'Mr.', 'Dr.', 'Ian', 'Dr.', 'Mr.', 'Dr.', 'Mr.', 'Dr.', 'Mrs.', 'Miss', 'Dr.', 'Mrs.', 'Ms.', 'Dr.', 'Dr.', 'Mark', 'Mr.', 'Kari', 'Mrs.', 'Mrs.', 'Mr.', 'Mrs.', 'Dr.', 'Dr.', 'Mrs.', 'Dr.', 'Mrs.', 'Kara', 'Mark', 'John', 'Mrs.', 'Dr.', 'Mrs.', 'Mr.', 'Eric', 'John', 'Dr.', 'Mrs.', 'Dr.', 'Mr.', 'Paul', 'Dr.', 'Mrs.', 'Dr.', 'Dr.', 'Dr.', 'Adam', 'Mrs.', 'Ms.', 'Dr.', 'Mrs.', 'Dr.', 'Ms.', 'Mrs.', 'Mr.', 'Mr.', 'Mrs.', 'Dr.', 'Mrs.', 'Mr.', 'Dr.', 'Mr.', 'Dr.', 'Dr.', 'Paul', 'Mrs.', 'Cory', 'Mrs.', 'Dr.', 'Dr.', 'Dr.', 'Mr.', 'Mr.', 'Erin', 'Dr.', 'Dr.', 'Ms.', 'Mrs.', 'Mr.', 'Miss', 'Mr.', 'Mr.', 'Mr.', 'Ms.', 'Mrs.', 'Mr.', 'Mrs.', 'Miss', 'Ms.', 'Dr.', 'Dr.', 'Mrs.', 'Mr.', 'Mrs.', 'John', 'Lisa', 'Mr.', 'Mr.', 'Mrs.', 'Mr.', 'Jon', 'Mrs.', 'Dr.', 'Greg', 'Ms.', 'Mrs.', 'Mr.', 'Mrs.', 'Miss', 'Mr.', 'Dr.', 'Joe', 'Dr.', 'Mark', 'Dr.', 'Mrs.', 'Miss', 'Mr.', 'Mr.', 'Mr.', 'Mrs.', 'Dr.', 'Mr.', 'Mr.', 'Mr.', 'Adam', 'Mr.', 'Mr.', 'Dana', 'Dr.', 'Mr.', 'Dr.', 'Mrs.', 'Mr.', 'Erik', 'Mrs.', 'Dr.', 'Miss', 'Mrs.', 'Ms.', 'Mr.', 'Mr.', 'Mr.', 'John', 'Gail', 'Todd', 'Mr.', 'Mr.', 'Mrs.', 'Ms.', 'Ryan', 'Mrs.', 'Mrs.', 'Dr.', 'Erik', 'Omar', 'Mr.', 'Dr.', 'Cody', 'Ms.', 'Dr.', 'Mrs.', 'Dr.', 'Mr.', 'Mr.', 'Miss', 'Mark', 'Dr.', 'Dr.', 'Mr.', 'Mrs.', 'Mr.', 'Mr.', 'Mr.', 'Mrs.', 'Mr.', 'Mrs.', 'Mr.', 'Dr.', 'Dr.', 'Mr.', 'Mr.', 'Mr.', 'Dr.', 'Miss', 'Mrs.', 'Seth', 'Dr.', 'Mrs.', 'Ryan', 'Mrs.', 'Mrs.', 'Mrs.', 'Mr.', 'Mrs.', 'Dr.', 'Mr.', 'Mrs.', 'Ryan', 'Mrs.', 'Mr.', 'Dr.', 'Dr.', 'Mr.', 'Dr.', 'Dr.', 'Mrs.', 'Ms.', 'Dr.', 'Dr.', 'Mr.', 'Mr.', 'Ms.', 'Dr.', 'Dr.', 'Dr.', 'Mr.', 'Mrs.', 'Mr.', 'Lisa', 'Mr.', 'Dr.', 'Chad', 'Gina', 'Dr.', 'Mr.', 'Mr.', 'Mrs.', 'Amy', 'Mr.', 'Mrs.', 'Mr.', 'Dr.', 'Mr.', 'Dr.', 'Mrs.', 'Lisa', 'Mrs.', 'Dr.', 'Miss', 'Mr.', 'Mr.', 'Ms.', 'Mrs.', 'Mr.', 'Mrs.', 'Mr.', 'Dr.', 'Dr.', 'Mr.', 'Lisa', 'Dr.', 'Mr.', 'Ms.', 'Mrs.', 'Mr.', 'Dr.', 'Dr.', 'Mrs.', 'Sean', 'Dr.', 'Dr.', 'Mr.', 'Mr.', 'Miss', 'Miss', 'Dr.', 'Mr.', 'Dr.', 'Dr.', 'Mrs.', 'Mr.', 'Mrs.', 'Mrs.', 'Dr.', 'Mrs.', 'Dr.', 'Mr.', 'Mrs.', 'Mr.', 'Mr.', 'Todd', 'Dr.', 'Mrs.', 'Mrs.', 'Miss', 'Dr.', 'Mrs.', 'Mr.', 'Mr.', 'Mrs.', 'Adam', 'Mrs.', 'Ms.', 'Tony', 'Dr.', 'Miss', 'Toni', 'Ms.', 'Mr.', 'Mr.', 'Dr.', 'Ms.', 'Dr.', 'Mrs.', 'Dr.', 'Dr.', 'Dr.', 'Jose', 'Dr.', 'Dr.', 'Amy', 'John', 'Mrs.', 'Mr.', 'Mrs.', 'Mrs.', 'Miss', 'Mr.', 'Dr.', 'Mary', 'Mark', 'Dr.', 'Ms.', 'Ms.', 'Dr.', 'Mr.', 'Dr.', 'Miss', 'Mr.', 'Dr.', 'Troy', 'John', 'Dr.', 'Kim', 'Mr.', 'Mr.', 'Miss', 'Mary', 'Mrs.', 'Mrs.', 'Mrs.', 'Mr.', 'Dr.', 'Ms.', 'Mrs.', 'Anna', 'Mr.', 'Mrs.', 'Mr.', 'Mr.', 'Dr.', 'Mrs.', 'Dr.', 'Dr.']\n"
     ]
    }
   ],
   "source": [
    "prefixes = []\n",
    "for name in students_to_fix:\n",
    "    if len(name.split()[0]) <= 4:\n",
    "        prefixes.append(name.split()[0])\n",
    "\n",
    "print(prefixes)"
   ]
  },
  {
   "cell_type": "code",
   "execution_count": 34,
   "id": "91a47016",
   "metadata": {},
   "outputs": [
    {
     "name": "stdout",
     "output_type": "stream",
     "text": [
      "['MD', 'MD', 'MD', 'III', 'DVM', 'MD', 'MD', 'MD', 'DDS', 'DVM', 'II', 'MD', 'MD', 'DDS', 'MD', 'DDS', 'MD', 'MD', 'PhD', 'MD', 'DVM', 'Lee', 'MD', 'DDS', 'MD', 'MD', 'MD', 'MD', 'MD', 'MD', 'DDS', 'Jr.', 'DVM', 'MD', 'MD', 'PhD', 'IV', 'MD', 'DDS', 'DDS', 'DDS', 'MD', 'DDS', 'MD', 'DVM', 'IV', 'MD', 'DDS', 'MD', 'MD', 'DVM', 'Jr.', 'MD', 'PhD', 'II', 'MD', 'DDS', 'DDS', 'DDS', 'Jr.', 'III', 'MD', 'MD', 'MD', 'DDS', 'Jr.', 'DDS', 'DVM', 'DDS', 'DVM', 'MD', 'DDS', 'PhD', 'DDS', 'DDS', 'Jr.', 'Jr.', 'DVM', 'DDS', 'MD', 'MD', 'DVM', 'DDS', 'DVM', 'Jr.', 'MD', 'Jr.', 'MD', 'PhD', 'PhD', 'DDS', 'MD', 'DDS', 'DVM', 'Cox', 'DVM', 'MD', 'Jr.', 'MD', 'DDS', 'MD', 'MD', 'DDS', 'DDS', 'Roy', 'DDS', 'DDS', 'DDS', 'II', 'PhD', 'MD', 'PhD', 'DDS', 'MD', 'DDS', 'Jr.', 'Day', 'DDS', 'MD', 'PhD', 'DDS', 'Jr.', 'DDS', 'MD', 'MD', 'MD', 'MD', 'DDS', 'MD', 'DDS', 'PhD', 'DVM', 'DDS', 'MD', 'MD', 'MD', 'DDS', 'Jr.', 'Jr.', 'DDS', 'Jr.', 'MD', 'MD', 'PhD', 'PhD', 'DDS', 'MD', 'MD', 'III', 'DVM', 'PhD', 'Jr.', 'II', 'DDS', 'DDS', 'DVM', 'MD', 'II', 'MD', 'DDS', 'MD', 'DDS', 'PhD', 'DDS', 'DDS', 'II', 'DVM', 'DDS', 'Jr.', 'DVM', 'MD', 'MD', 'DVM', 'MD', 'DDS', 'DVM', 'DDS', 'MD', 'II', 'PhD', 'MD', 'MD', 'MD', 'DDS', 'MD', 'MD', 'DDS', 'DDS', 'MD', 'DDS', 'PhD', 'DVM', 'DVM', 'MD', 'MD', 'DDS', 'DDS', 'PhD', 'MD', 'IV', 'DDS', 'Jr.', 'DDS', 'Jr.', 'MD', 'MD', 'MD', 'DDS', 'MD', 'DVM', 'DVM', 'DDS', 'DDS', 'Jr.', 'MD', 'MD', 'DDS', 'DDS', 'MD', 'MD', 'MD', 'MD', 'DVM', 'MD', 'DVM', 'DVM', 'MD', 'DDS', 'MD', 'Jr.', 'DDS', 'MD', 'MD', 'DVM', 'Jr.', 'DDS', 'MD', 'MD', 'PhD', 'DDS', 'Jr.', 'MD', 'DDS', 'MD', 'DDS', 'Jr.', 'Jr.', 'DVM', 'MD', 'DDS', 'PhD', 'MD', 'PhD', 'MD', 'V', 'II', 'MD', 'PhD', 'DVM', 'MD', 'MD', 'PhD', 'MD', 'MD', 'MD', 'DDS', 'DVM', 'Jr.', 'MD', 'Jr.', 'Jr.', 'DDS', 'PhD', 'DVM', 'DVM', 'MD', 'MD', 'MD', 'DVM', 'MD', 'DDS', 'MD', 'DDS', 'Jr.', 'MD', 'DDS', 'DDS', 'Jr.', 'DVM', 'DVM', 'DDS', 'MD', 'MD', 'DVM', 'MD', 'MD', 'MD', 'DDS', 'MD', 'Jr.', 'MD', 'MD', 'PhD', 'PhD', 'DDS', 'DDS', 'DDS', 'MD', 'MD', 'PhD', 'Jr.', 'MD', 'DDS', 'III', 'DVM', 'Jr.', 'DDS', 'DDS', 'MD', 'DVM', 'MD', 'DDS', 'MD', 'PhD', 'DDS', 'Lee', 'MD', 'Jr.', 'MD', 'DVM', 'DDS', 'DDS', 'MD', 'MD', 'DVM', 'DVM', 'DVM', 'MD', 'DDS', 'DVM', 'DDS', 'MD', 'MD', 'MD', 'DDS', 'PhD', 'DDS', 'DVM', 'DDS', 'DVM', 'DDS', 'DVM', 'DVM', 'DDS', 'II', 'MD', 'III', 'DDS', 'DDS', 'DVM', 'DVM', 'MD', 'Jr.', 'II', 'MD', 'PhD', 'PhD', 'MD', 'DDS', 'DVM', 'DVM', 'MD', 'MD', 'DVM', 'DVM', 'PhD', 'Jr.', 'Jr.', 'MD', 'MD', 'DDS', 'DDS', 'III', 'PhD', 'Jr.', 'MD', 'MD', 'MD', 'DDS', 'MD', 'DDS', 'MD', 'DVM', 'PhD', 'MD', 'MD', 'PhD', 'Jr.', 'MD', 'MD', 'MD', 'MD', 'MD', 'MD', 'DVM', 'DVM', 'PhD', 'DDS', 'DDS', 'MD', 'DDS', 'MD', 'DVM', 'DVM', 'DDS', 'DVM', 'DDS', 'MD', 'MD', 'DVM', 'DVM', 'DDS', 'Jr.', 'PhD', 'MD', 'DVM', 'DVM', 'DDS', 'DVM', 'MD', 'MD', 'MD', 'II', 'DDS', 'DDS', 'DDS', 'MD', 'Jr.', 'MD', 'Jr.', 'DDS', 'MD', 'MD', 'DVM', 'MD', 'DDS', 'DDS', 'PhD', 'Jr.', 'Jr.', 'Jr.', 'DDS', 'Jr.', 'MD', 'MD', 'DDS', 'MD', 'Jr.', 'MD', 'DDS', 'Jr.', 'DDS', 'MD', 'MD', 'Jr.', 'PhD', 'DDS', 'MD', 'II', 'PhD', 'DVM', 'MD', 'DDS', 'PhD', 'MD', 'MD', 'DDS', 'Jr.', 'MD', 'DVM', 'MD', 'MD', 'MD', 'MD', 'MD', 'DDS', 'DVM', 'PhD', 'DVM', 'III', 'Jr.', 'DVM', 'MD', 'MD', 'V', 'Jr.', 'MD', 'DVM', 'MD', 'DDS', 'DVM', 'DDS', 'Jr.', 'MD', 'PhD', 'DVM', 'DDS', 'PhD', 'MD', 'DDS', 'DDS', 'MD', 'DVM', 'IV', 'Jr.', 'MD', 'MD', 'Jr.', 'PhD', 'II', 'Jr.', 'MD', 'MD', 'MD', 'Jr.', 'MD', 'DVM', 'PhD', 'PhD', 'DDS', 'DDS', 'PhD', 'MD', 'Jr.', 'MD', 'DDS', 'MD', 'DDS', 'DVM', 'DDS', 'DVM', 'MD', 'MD', 'PhD', 'Jr.', 'Jr.', 'MD', 'DDS', 'MD', 'DVM', 'MD', 'DVM', 'DDS', 'PhD', 'PhD', 'Kim', 'DDS', 'PhD', 'DVM', 'PhD', 'DVM', 'DDS', 'MD', 'Jr.', 'PhD', 'MD', 'MD', 'II', 'III', 'MD', 'DDS', 'DDS', 'PhD', 'MD', 'DVM', 'MD', 'DDS', 'MD', 'DDS', 'Jr.', 'DDS', 'DDS', 'MD', 'IV', 'Jr.', 'DDS', 'DDS', 'Jr.', 'DVM', 'DVM', 'DVM', 'DVM', 'MD', 'DVM', 'DDS', 'MD', 'MD', 'DDS', 'DDS', 'DVM', 'III', 'DVM', 'MD', 'DVM', 'DDS', 'MD', 'MD', 'DVM', 'DVM', 'MD', 'III', 'DDS', 'MD', 'DDS', 'DVM', 'Jr.', 'III', 'MD', 'MD', 'PhD', 'DVM', 'DDS', 'MD', 'Jr.', 'DDS', 'MD', 'II', 'MD', 'Jr.', 'DDS', 'PhD', 'DDS', 'DDS', 'II', 'Jr.', 'DDS', 'MD', 'II', 'MD', 'MD', 'MD', 'Jr.', 'DDS', 'MD', 'DVM', 'PhD', 'MD', 'DVM', 'DDS', 'DDS', 'DVM', 'DDS', 'DDS', 'MD', 'MD', 'MD', 'MD', 'DDS', 'DVM', 'PhD', 'DDS', 'DDS', 'MD', 'MD', 'MD', 'DDS', 'DVM', 'MD', 'II', 'MD', 'Jr.', 'Jr.', 'MD', 'MD', 'MD', 'MD', 'DVM', 'MD', 'Jr.', 'PhD', 'PhD', 'PhD', 'DDS', 'Jr.', 'DVM', 'DDS', 'MD', 'DVM', 'PhD', 'MD', 'Jr.', 'Jr.', 'DVM', 'MD', 'DDS', 'MD', 'MD', 'Lee', 'MD', 'MD', 'MD', 'DDS', 'PhD', 'MD', 'PhD', 'MD', 'DVM', 'MD', 'MD', 'MD', 'DDS', 'II', 'DVM', 'Jr.', 'DVM', 'MD', 'Jr.', 'DDS', 'DVM', 'DDS', 'Jr.', 'DVM', 'Jr.', 'DDS', 'MD', 'PhD', 'DDS', 'DDS', 'DVM', 'MD', 'MD', 'PhD', 'DDS', 'DDS', 'DDS', 'DDS', 'MD', 'DVM', 'DVM', 'DVM', 'DDS', 'MD', 'MD', 'MD', 'Jr.', 'PhD', 'MD', 'Jr.', 'DVM', 'DDS', 'DVM', 'MD', 'DVM', 'MD', 'DDS', 'DDS', 'PhD', 'DDS', 'Jr.', 'DDS', 'MD', 'MD', 'MD', 'MD', 'DDS', 'DVM', 'MD', 'MD', 'PhD', 'MD', 'MD', 'II', 'MD', 'Jr.', 'PhD', 'MD', 'PhD', 'MD', 'MD', 'DDS', 'Jr.', 'PhD', 'DDS', 'MD', 'DDS', 'DDS', 'MD', 'MD', 'MD', 'Jr.', 'DDS', 'DDS', 'MD', 'MD', 'MD', 'MD', 'IV', 'Jr.', 'MD', 'DDS', 'MD', 'DDS', 'MD', 'MD', 'Jr.', 'MD', 'DVM', 'DVM', 'DVM', 'MD', 'MD', 'DVM', 'DVM', 'PhD', 'Jr.', 'PhD', 'DVM', 'Jr.', 'MD', 'MD', 'DDS', 'III', 'DVM', 'DDS', 'Jr.', 'MD', 'MD', 'Jr.', 'MD', 'MD', 'DVM', 'Jr.', 'Jr.', 'DDS', 'PhD', 'DDS', 'DDS', 'DDS', 'Jr.', 'Jr.', 'MD', 'DVM', 'DDS', 'MD', 'MD', 'PhD', 'DDS', 'MD', 'DDS', 'DVM', 'DVM', 'MD', 'DDS', 'MD', 'MD', 'MD', 'Jr.', 'MD', 'DVM', 'DDS', 'MD', 'PhD', 'MD', 'II', 'Jr.', 'III', 'MD', 'PhD', 'MD', 'MD', 'PhD', 'II', 'DDS', 'DVM', 'DDS', 'MD', 'DDS', 'MD', 'DVM', 'MD', 'III', 'DDS', 'MD', 'DVM', 'MD', 'II', 'DDS', 'MD', 'MD', 'DDS', 'MD', 'MD', 'DVM', 'MD', 'MD', 'MD', 'II', 'DDS', 'Jr.', 'MD', 'DDS', 'MD', 'MD', 'MD', 'MD', 'DDS', 'IV', 'MD', 'Jr.', 'III', 'DDS', 'DDS', 'MD', 'DDS', 'DVM', 'DVM', 'PhD', 'MD', 'II', 'Li', 'DVM', 'MD', 'DVM', 'DDS', 'DDS', 'DDS', 'DVM', 'MD', 'DVM', 'MD', 'MD', 'MD', 'MD', 'Jr.', 'DVM', 'MD', 'MD', 'MD', 'MD', 'DDS', 'MD', 'PhD', 'DDS', 'MD', 'MD', 'DDS', 'Jr.', 'DDS', 'DDS', 'DVM', 'DDS', 'DDS', 'MD', 'Jr.', 'DDS', 'PhD', 'Jr.', 'DDS']\n"
     ]
    }
   ],
   "source": [
    "# Add the suffixes less than or equal to 3 to a new list.\n",
    "suffixes = []\n",
    "for name in students_to_fix:\n",
    "    if len(name.split()[-1]) <= 3:\n",
    "        suffixes.append(name.split()[-1])\n",
    "\n",
    "print(suffixes)"
   ]
  },
  {
   "cell_type": "code",
   "execution_count": 35,
   "id": "81a4a8ed",
   "metadata": {},
   "outputs": [
    {
     "data": {
      "text/plain": [
       "{'Adam',\n",
       " 'Amy',\n",
       " 'Anna',\n",
       " 'Anne',\n",
       " 'Carl',\n",
       " 'Chad',\n",
       " 'Cody',\n",
       " 'Cory',\n",
       " 'Dale',\n",
       " 'Dana',\n",
       " 'Dawn',\n",
       " 'Dr.',\n",
       " 'Emma',\n",
       " 'Eric',\n",
       " 'Erik',\n",
       " 'Erin',\n",
       " 'Gail',\n",
       " 'Gary',\n",
       " 'Gina',\n",
       " 'Greg',\n",
       " 'Ian',\n",
       " 'Jill',\n",
       " 'Jodi',\n",
       " 'Joe',\n",
       " 'John',\n",
       " 'Jon',\n",
       " 'Jose',\n",
       " 'Judy',\n",
       " 'Kara',\n",
       " 'Kari',\n",
       " 'Kim',\n",
       " 'Kyle',\n",
       " 'Leah',\n",
       " 'Lisa',\n",
       " 'Lori',\n",
       " 'Luke',\n",
       " 'Lynn',\n",
       " 'Marc',\n",
       " 'Mark',\n",
       " 'Mary',\n",
       " 'Mike',\n",
       " 'Miss',\n",
       " 'Mr.',\n",
       " 'Mrs.',\n",
       " 'Ms.',\n",
       " 'Noah',\n",
       " 'Omar',\n",
       " 'Paul',\n",
       " 'Ruth',\n",
       " 'Ryan',\n",
       " 'Sara',\n",
       " 'Sean',\n",
       " 'Seth',\n",
       " 'Tara',\n",
       " 'Tina',\n",
       " 'Todd',\n",
       " 'Toni',\n",
       " 'Tony',\n",
       " 'Troy'}"
      ]
     },
     "execution_count": 35,
     "metadata": {},
     "output_type": "execute_result"
    }
   ],
   "source": [
    "# Get the unique items in the \"prefixes\" list.\n",
    "set(prefixes)"
   ]
  },
  {
   "cell_type": "code",
   "execution_count": 36,
   "id": "a965f076",
   "metadata": {},
   "outputs": [
    {
     "data": {
      "text/plain": [
       "{'Cox',\n",
       " 'DDS',\n",
       " 'DVM',\n",
       " 'Day',\n",
       " 'II',\n",
       " 'III',\n",
       " 'IV',\n",
       " 'Jr.',\n",
       " 'Kim',\n",
       " 'Lee',\n",
       " 'Li',\n",
       " 'MD',\n",
       " 'PhD',\n",
       " 'Roy',\n",
       " 'V'}"
      ]
     },
     "execution_count": 36,
     "metadata": {},
     "output_type": "execute_result"
    }
   ],
   "source": [
    "# Get the unique items in the \"suffixes\" list.\n",
    "set(suffixes)"
   ]
  },
  {
   "cell_type": "code",
   "execution_count": 49,
   "id": "81e92733",
   "metadata": {},
   "outputs": [],
   "source": [
    "# Add each prefix and suffix to remove to a list.\n",
    "prefixes_suffixes = [\"Dr. \", \"Mr. \",\"Ms. \", \"Mrs. \", \"Miss \", \" MD\", \" DDS\", \" DVM\", \" PhD\"]"
   ]
  },
  {
   "cell_type": "code",
   "execution_count": 50,
   "id": "d2a3f009",
   "metadata": {},
   "outputs": [
    {
     "name": "stderr",
     "output_type": "stream",
     "text": [
      "C:\\Users\\Mihir\\anaconda3\\envs\\PythonData\\lib\\site-packages\\ipykernel_launcher.py:2: FutureWarning: The default value of regex will change from True to False in a future version.\n",
      "  \n"
     ]
    },
    {
     "data": {
      "text/html": [
       "<div>\n",
       "<style scoped>\n",
       "    .dataframe tbody tr th:only-of-type {\n",
       "        vertical-align: middle;\n",
       "    }\n",
       "\n",
       "    .dataframe tbody tr th {\n",
       "        vertical-align: top;\n",
       "    }\n",
       "\n",
       "    .dataframe thead th {\n",
       "        text-align: right;\n",
       "    }\n",
       "</style>\n",
       "<table border=\"1\" class=\"dataframe\">\n",
       "  <thead>\n",
       "    <tr style=\"text-align: right;\">\n",
       "      <th></th>\n",
       "      <th>Student ID</th>\n",
       "      <th>student_name</th>\n",
       "      <th>gender</th>\n",
       "      <th>grade</th>\n",
       "      <th>school_name</th>\n",
       "      <th>reading_score</th>\n",
       "      <th>math_score</th>\n",
       "    </tr>\n",
       "  </thead>\n",
       "  <tbody>\n",
       "    <tr>\n",
       "      <th>0</th>\n",
       "      <td>0</td>\n",
       "      <td>Paul Bradley</td>\n",
       "      <td>M</td>\n",
       "      <td>9th</td>\n",
       "      <td>Huang High School</td>\n",
       "      <td>66</td>\n",
       "      <td>79</td>\n",
       "    </tr>\n",
       "    <tr>\n",
       "      <th>1</th>\n",
       "      <td>1</td>\n",
       "      <td>Victor Smith</td>\n",
       "      <td>M</td>\n",
       "      <td>12th</td>\n",
       "      <td>Huang High School</td>\n",
       "      <td>94</td>\n",
       "      <td>61</td>\n",
       "    </tr>\n",
       "    <tr>\n",
       "      <th>2</th>\n",
       "      <td>2</td>\n",
       "      <td>Kevin Rodriguez</td>\n",
       "      <td>M</td>\n",
       "      <td>12th</td>\n",
       "      <td>Huang High School</td>\n",
       "      <td>90</td>\n",
       "      <td>60</td>\n",
       "    </tr>\n",
       "    <tr>\n",
       "      <th>3</th>\n",
       "      <td>3</td>\n",
       "      <td>Richard Scott</td>\n",
       "      <td>M</td>\n",
       "      <td>12th</td>\n",
       "      <td>Huang High School</td>\n",
       "      <td>67</td>\n",
       "      <td>58</td>\n",
       "    </tr>\n",
       "    <tr>\n",
       "      <th>4</th>\n",
       "      <td>4</td>\n",
       "      <td>Bonnie Ray</td>\n",
       "      <td>F</td>\n",
       "      <td>9th</td>\n",
       "      <td>Huang High School</td>\n",
       "      <td>97</td>\n",
       "      <td>84</td>\n",
       "    </tr>\n",
       "    <tr>\n",
       "      <th>...</th>\n",
       "      <td>...</td>\n",
       "      <td>...</td>\n",
       "      <td>...</td>\n",
       "      <td>...</td>\n",
       "      <td>...</td>\n",
       "      <td>...</td>\n",
       "      <td>...</td>\n",
       "    </tr>\n",
       "    <tr>\n",
       "      <th>39165</th>\n",
       "      <td>39165</td>\n",
       "      <td>Donna Howard</td>\n",
       "      <td>F</td>\n",
       "      <td>12th</td>\n",
       "      <td>Thomas High School</td>\n",
       "      <td>99</td>\n",
       "      <td>90</td>\n",
       "    </tr>\n",
       "    <tr>\n",
       "      <th>39166</th>\n",
       "      <td>39166</td>\n",
       "      <td>Dawn Bell</td>\n",
       "      <td>F</td>\n",
       "      <td>10th</td>\n",
       "      <td>Thomas High School</td>\n",
       "      <td>95</td>\n",
       "      <td>70</td>\n",
       "    </tr>\n",
       "    <tr>\n",
       "      <th>39167</th>\n",
       "      <td>39167</td>\n",
       "      <td>Rebecca Tanner</td>\n",
       "      <td>F</td>\n",
       "      <td>9th</td>\n",
       "      <td>Thomas High School</td>\n",
       "      <td>73</td>\n",
       "      <td>84</td>\n",
       "    </tr>\n",
       "    <tr>\n",
       "      <th>39168</th>\n",
       "      <td>39168</td>\n",
       "      <td>Desiree Kidd</td>\n",
       "      <td>F</td>\n",
       "      <td>10th</td>\n",
       "      <td>Thomas High School</td>\n",
       "      <td>99</td>\n",
       "      <td>90</td>\n",
       "    </tr>\n",
       "    <tr>\n",
       "      <th>39169</th>\n",
       "      <td>39169</td>\n",
       "      <td>Carolyn Jackson</td>\n",
       "      <td>F</td>\n",
       "      <td>11th</td>\n",
       "      <td>Thomas High School</td>\n",
       "      <td>95</td>\n",
       "      <td>75</td>\n",
       "    </tr>\n",
       "  </tbody>\n",
       "</table>\n",
       "<p>39170 rows × 7 columns</p>\n",
       "</div>"
      ],
      "text/plain": [
       "       Student ID     student_name gender grade         school_name  \\\n",
       "0               0     Paul Bradley      M   9th   Huang High School   \n",
       "1               1     Victor Smith      M  12th   Huang High School   \n",
       "2               2  Kevin Rodriguez      M  12th   Huang High School   \n",
       "3               3    Richard Scott      M  12th   Huang High School   \n",
       "4               4       Bonnie Ray      F   9th   Huang High School   \n",
       "...           ...              ...    ...   ...                 ...   \n",
       "39165       39165     Donna Howard      F  12th  Thomas High School   \n",
       "39166       39166        Dawn Bell      F  10th  Thomas High School   \n",
       "39167       39167   Rebecca Tanner      F   9th  Thomas High School   \n",
       "39168       39168     Desiree Kidd      F  10th  Thomas High School   \n",
       "39169       39169  Carolyn Jackson      F  11th  Thomas High School   \n",
       "\n",
       "       reading_score  math_score  \n",
       "0                 66          79  \n",
       "1                 94          61  \n",
       "2                 90          60  \n",
       "3                 67          58  \n",
       "4                 97          84  \n",
       "...              ...         ...  \n",
       "39165             99          90  \n",
       "39166             95          70  \n",
       "39167             73          84  \n",
       "39168             99          90  \n",
       "39169             95          75  \n",
       "\n",
       "[39170 rows x 7 columns]"
      ]
     },
     "execution_count": 50,
     "metadata": {},
     "output_type": "execute_result"
    }
   ],
   "source": [
    "for word in prefixes_suffixes:\n",
    "    student_data_df[\"student_name\"] = student_data_df[\"student_name\"].str.replace(word,\"\")\n",
    "    \n",
    "student_data_df"
   ]
  },
  {
   "cell_type": "code",
   "execution_count": 55,
   "id": "e2ed37ed",
   "metadata": {},
   "outputs": [
    {
     "ename": "SyntaxError",
     "evalue": "unexpected EOF while parsing (<ipython-input-55-e84478a998d7>, line 4)",
     "output_type": "error",
     "traceback": [
      "\u001b[1;36m  File \u001b[1;32m\"<ipython-input-55-e84478a998d7>\"\u001b[1;36m, line \u001b[1;32m4\u001b[0m\n\u001b[1;33m    #print(name)\u001b[0m\n\u001b[1;37m                ^\u001b[0m\n\u001b[1;31mSyntaxError\u001b[0m\u001b[1;31m:\u001b[0m unexpected EOF while parsing\n"
     ]
    }
   ],
   "source": [
    "#testing to see if prefixes were deleted\n",
    "for name in student_data_df[\"student_name\"]:\n",
    "    if len(name.split()) == 3:\n",
    "        #print(name)"
   ]
  },
  {
   "cell_type": "code",
   "execution_count": null,
   "id": "72fa0c71",
   "metadata": {},
   "outputs": [],
   "source": []
  },
  {
   "cell_type": "code",
   "execution_count": null,
   "id": "fc4e675b",
   "metadata": {},
   "outputs": [],
   "source": []
  },
  {
   "cell_type": "code",
   "execution_count": null,
   "id": "f2bf1a43",
   "metadata": {
    "scrolled": false
   },
   "outputs": [],
   "source": []
  },
  {
   "cell_type": "code",
   "execution_count": null,
   "id": "38a17d7c",
   "metadata": {},
   "outputs": [],
   "source": []
  }
 ],
 "metadata": {
  "kernelspec": {
   "display_name": "PythonData",
   "language": "python",
   "name": "pythondata"
  },
  "language_info": {
   "codemirror_mode": {
    "name": "ipython",
    "version": 3
   },
   "file_extension": ".py",
   "mimetype": "text/x-python",
   "name": "python",
   "nbconvert_exporter": "python",
   "pygments_lexer": "ipython3",
   "version": "3.7.10"
  }
 },
 "nbformat": 4,
 "nbformat_minor": 5
}
